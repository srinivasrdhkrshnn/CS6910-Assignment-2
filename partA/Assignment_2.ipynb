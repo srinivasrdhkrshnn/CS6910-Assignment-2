{
  "nbformat": 4,
  "nbformat_minor": 0,
  "metadata": {
    "colab": {
      "name": "Assignment 2.ipynb",
      "provenance": [],
      "collapsed_sections": []
    },
    "kernelspec": {
      "name": "python3",
      "display_name": "Python 3"
    },
    "language_info": {
      "name": "python"
    },
    "widgets": {
      "application/vnd.jupyter.widget-state+json": {
        "102bda7c08a44956adf1ed1b8de32a66": {
          "model_module": "@jupyter-widgets/controls",
          "model_name": "VBoxModel",
          "state": {
            "_view_name": "VBoxView",
            "_dom_classes": [],
            "_model_name": "VBoxModel",
            "_view_module": "@jupyter-widgets/controls",
            "_model_module_version": "1.5.0",
            "_view_count": null,
            "_view_module_version": "1.5.0",
            "box_style": "",
            "layout": "IPY_MODEL_c13be1a803dc4f3eba9bc783204052a9",
            "_model_module": "@jupyter-widgets/controls",
            "children": [
              "IPY_MODEL_32c4b3f07e2c4ec697b9220d35ab1eb5",
              "IPY_MODEL_80502614ec9e44fba46f87cdbc8fae7c"
            ]
          }
        },
        "c13be1a803dc4f3eba9bc783204052a9": {
          "model_module": "@jupyter-widgets/base",
          "model_name": "LayoutModel",
          "state": {
            "_view_name": "LayoutView",
            "grid_template_rows": null,
            "right": null,
            "justify_content": null,
            "_view_module": "@jupyter-widgets/base",
            "overflow": null,
            "_model_module_version": "1.2.0",
            "_view_count": null,
            "flex_flow": null,
            "width": null,
            "min_width": null,
            "border": null,
            "align_items": null,
            "bottom": null,
            "_model_module": "@jupyter-widgets/base",
            "top": null,
            "grid_column": null,
            "overflow_y": null,
            "overflow_x": null,
            "grid_auto_flow": null,
            "grid_area": null,
            "grid_template_columns": null,
            "flex": null,
            "_model_name": "LayoutModel",
            "justify_items": null,
            "grid_row": null,
            "max_height": null,
            "align_content": null,
            "visibility": null,
            "align_self": null,
            "height": null,
            "min_height": null,
            "padding": null,
            "grid_auto_rows": null,
            "grid_gap": null,
            "max_width": null,
            "order": null,
            "_view_module_version": "1.2.0",
            "grid_template_areas": null,
            "object_position": null,
            "object_fit": null,
            "grid_auto_columns": null,
            "margin": null,
            "display": null,
            "left": null
          }
        },
        "32c4b3f07e2c4ec697b9220d35ab1eb5": {
          "model_module": "@jupyter-widgets/controls",
          "model_name": "LabelModel",
          "state": {
            "_view_name": "LabelView",
            "style": "IPY_MODEL_4877fd14fbb94a9e97487b4e51d8b563",
            "_dom_classes": [],
            "description": "",
            "_model_name": "LabelModel",
            "placeholder": "​",
            "_view_module": "@jupyter-widgets/controls",
            "_model_module_version": "1.5.0",
            "value": " 0.01MB of 0.01MB uploaded (0.00MB deduped)\r",
            "_view_count": null,
            "_view_module_version": "1.5.0",
            "description_tooltip": null,
            "_model_module": "@jupyter-widgets/controls",
            "layout": "IPY_MODEL_4ab2b3fbeca8441dba30e75ef4f5cfb0"
          }
        },
        "80502614ec9e44fba46f87cdbc8fae7c": {
          "model_module": "@jupyter-widgets/controls",
          "model_name": "FloatProgressModel",
          "state": {
            "_view_name": "ProgressView",
            "style": "IPY_MODEL_6887ba9eb97d4cd6a60abf85235f86a8",
            "_dom_classes": [],
            "description": "",
            "_model_name": "FloatProgressModel",
            "bar_style": "",
            "max": 1,
            "_view_module": "@jupyter-widgets/controls",
            "_model_module_version": "1.5.0",
            "value": 1,
            "_view_count": null,
            "_view_module_version": "1.5.0",
            "orientation": "horizontal",
            "min": 0,
            "description_tooltip": null,
            "_model_module": "@jupyter-widgets/controls",
            "layout": "IPY_MODEL_a0f5436615704419b5acaa01b65bf9e8"
          }
        },
        "4877fd14fbb94a9e97487b4e51d8b563": {
          "model_module": "@jupyter-widgets/controls",
          "model_name": "DescriptionStyleModel",
          "state": {
            "_view_name": "StyleView",
            "_model_name": "DescriptionStyleModel",
            "description_width": "",
            "_view_module": "@jupyter-widgets/base",
            "_model_module_version": "1.5.0",
            "_view_count": null,
            "_view_module_version": "1.2.0",
            "_model_module": "@jupyter-widgets/controls"
          }
        },
        "4ab2b3fbeca8441dba30e75ef4f5cfb0": {
          "model_module": "@jupyter-widgets/base",
          "model_name": "LayoutModel",
          "state": {
            "_view_name": "LayoutView",
            "grid_template_rows": null,
            "right": null,
            "justify_content": null,
            "_view_module": "@jupyter-widgets/base",
            "overflow": null,
            "_model_module_version": "1.2.0",
            "_view_count": null,
            "flex_flow": null,
            "width": null,
            "min_width": null,
            "border": null,
            "align_items": null,
            "bottom": null,
            "_model_module": "@jupyter-widgets/base",
            "top": null,
            "grid_column": null,
            "overflow_y": null,
            "overflow_x": null,
            "grid_auto_flow": null,
            "grid_area": null,
            "grid_template_columns": null,
            "flex": null,
            "_model_name": "LayoutModel",
            "justify_items": null,
            "grid_row": null,
            "max_height": null,
            "align_content": null,
            "visibility": null,
            "align_self": null,
            "height": null,
            "min_height": null,
            "padding": null,
            "grid_auto_rows": null,
            "grid_gap": null,
            "max_width": null,
            "order": null,
            "_view_module_version": "1.2.0",
            "grid_template_areas": null,
            "object_position": null,
            "object_fit": null,
            "grid_auto_columns": null,
            "margin": null,
            "display": null,
            "left": null
          }
        },
        "6887ba9eb97d4cd6a60abf85235f86a8": {
          "model_module": "@jupyter-widgets/controls",
          "model_name": "ProgressStyleModel",
          "state": {
            "_view_name": "StyleView",
            "_model_name": "ProgressStyleModel",
            "description_width": "",
            "_view_module": "@jupyter-widgets/base",
            "_model_module_version": "1.5.0",
            "_view_count": null,
            "_view_module_version": "1.2.0",
            "bar_color": null,
            "_model_module": "@jupyter-widgets/controls"
          }
        },
        "a0f5436615704419b5acaa01b65bf9e8": {
          "model_module": "@jupyter-widgets/base",
          "model_name": "LayoutModel",
          "state": {
            "_view_name": "LayoutView",
            "grid_template_rows": null,
            "right": null,
            "justify_content": null,
            "_view_module": "@jupyter-widgets/base",
            "overflow": null,
            "_model_module_version": "1.2.0",
            "_view_count": null,
            "flex_flow": null,
            "width": null,
            "min_width": null,
            "border": null,
            "align_items": null,
            "bottom": null,
            "_model_module": "@jupyter-widgets/base",
            "top": null,
            "grid_column": null,
            "overflow_y": null,
            "overflow_x": null,
            "grid_auto_flow": null,
            "grid_area": null,
            "grid_template_columns": null,
            "flex": null,
            "_model_name": "LayoutModel",
            "justify_items": null,
            "grid_row": null,
            "max_height": null,
            "align_content": null,
            "visibility": null,
            "align_self": null,
            "height": null,
            "min_height": null,
            "padding": null,
            "grid_auto_rows": null,
            "grid_gap": null,
            "max_width": null,
            "order": null,
            "_view_module_version": "1.2.0",
            "grid_template_areas": null,
            "object_position": null,
            "object_fit": null,
            "grid_auto_columns": null,
            "margin": null,
            "display": null,
            "left": null
          }
        },
        "4c850f4a2ec649878d1b3aede25d6398": {
          "model_module": "@jupyter-widgets/controls",
          "model_name": "VBoxModel",
          "state": {
            "_view_name": "VBoxView",
            "_dom_classes": [],
            "_model_name": "VBoxModel",
            "_view_module": "@jupyter-widgets/controls",
            "_model_module_version": "1.5.0",
            "_view_count": null,
            "_view_module_version": "1.5.0",
            "box_style": "",
            "layout": "IPY_MODEL_1db13d9a2a5c451eb4a3ec655700d1d6",
            "_model_module": "@jupyter-widgets/controls",
            "children": [
              "IPY_MODEL_92edfedc6fe844ae85b01bb0a79d0eb8",
              "IPY_MODEL_968258e469bc441ea8502ea8ef86319e"
            ]
          }
        },
        "1db13d9a2a5c451eb4a3ec655700d1d6": {
          "model_module": "@jupyter-widgets/base",
          "model_name": "LayoutModel",
          "state": {
            "_view_name": "LayoutView",
            "grid_template_rows": null,
            "right": null,
            "justify_content": null,
            "_view_module": "@jupyter-widgets/base",
            "overflow": null,
            "_model_module_version": "1.2.0",
            "_view_count": null,
            "flex_flow": null,
            "width": null,
            "min_width": null,
            "border": null,
            "align_items": null,
            "bottom": null,
            "_model_module": "@jupyter-widgets/base",
            "top": null,
            "grid_column": null,
            "overflow_y": null,
            "overflow_x": null,
            "grid_auto_flow": null,
            "grid_area": null,
            "grid_template_columns": null,
            "flex": null,
            "_model_name": "LayoutModel",
            "justify_items": null,
            "grid_row": null,
            "max_height": null,
            "align_content": null,
            "visibility": null,
            "align_self": null,
            "height": null,
            "min_height": null,
            "padding": null,
            "grid_auto_rows": null,
            "grid_gap": null,
            "max_width": null,
            "order": null,
            "_view_module_version": "1.2.0",
            "grid_template_areas": null,
            "object_position": null,
            "object_fit": null,
            "grid_auto_columns": null,
            "margin": null,
            "display": null,
            "left": null
          }
        },
        "92edfedc6fe844ae85b01bb0a79d0eb8": {
          "model_module": "@jupyter-widgets/controls",
          "model_name": "LabelModel",
          "state": {
            "_view_name": "LabelView",
            "style": "IPY_MODEL_f8b17bd013954548b538f66c91f29563",
            "_dom_classes": [],
            "description": "",
            "_model_name": "LabelModel",
            "placeholder": "​",
            "_view_module": "@jupyter-widgets/controls",
            "_model_module_version": "1.5.0",
            "value": " 0.01MB of 0.01MB uploaded (0.00MB deduped)\r",
            "_view_count": null,
            "_view_module_version": "1.5.0",
            "description_tooltip": null,
            "_model_module": "@jupyter-widgets/controls",
            "layout": "IPY_MODEL_7c59acee43a74d77acd9f1b3028aa18e"
          }
        },
        "968258e469bc441ea8502ea8ef86319e": {
          "model_module": "@jupyter-widgets/controls",
          "model_name": "FloatProgressModel",
          "state": {
            "_view_name": "ProgressView",
            "style": "IPY_MODEL_3975ebccde08407aae863964ded29e1f",
            "_dom_classes": [],
            "description": "",
            "_model_name": "FloatProgressModel",
            "bar_style": "",
            "max": 1,
            "_view_module": "@jupyter-widgets/controls",
            "_model_module_version": "1.5.0",
            "value": 1,
            "_view_count": null,
            "_view_module_version": "1.5.0",
            "orientation": "horizontal",
            "min": 0,
            "description_tooltip": null,
            "_model_module": "@jupyter-widgets/controls",
            "layout": "IPY_MODEL_e5d4505a5e44458cb31eacf6e4736f9a"
          }
        },
        "f8b17bd013954548b538f66c91f29563": {
          "model_module": "@jupyter-widgets/controls",
          "model_name": "DescriptionStyleModel",
          "state": {
            "_view_name": "StyleView",
            "_model_name": "DescriptionStyleModel",
            "description_width": "",
            "_view_module": "@jupyter-widgets/base",
            "_model_module_version": "1.5.0",
            "_view_count": null,
            "_view_module_version": "1.2.0",
            "_model_module": "@jupyter-widgets/controls"
          }
        },
        "7c59acee43a74d77acd9f1b3028aa18e": {
          "model_module": "@jupyter-widgets/base",
          "model_name": "LayoutModel",
          "state": {
            "_view_name": "LayoutView",
            "grid_template_rows": null,
            "right": null,
            "justify_content": null,
            "_view_module": "@jupyter-widgets/base",
            "overflow": null,
            "_model_module_version": "1.2.0",
            "_view_count": null,
            "flex_flow": null,
            "width": null,
            "min_width": null,
            "border": null,
            "align_items": null,
            "bottom": null,
            "_model_module": "@jupyter-widgets/base",
            "top": null,
            "grid_column": null,
            "overflow_y": null,
            "overflow_x": null,
            "grid_auto_flow": null,
            "grid_area": null,
            "grid_template_columns": null,
            "flex": null,
            "_model_name": "LayoutModel",
            "justify_items": null,
            "grid_row": null,
            "max_height": null,
            "align_content": null,
            "visibility": null,
            "align_self": null,
            "height": null,
            "min_height": null,
            "padding": null,
            "grid_auto_rows": null,
            "grid_gap": null,
            "max_width": null,
            "order": null,
            "_view_module_version": "1.2.0",
            "grid_template_areas": null,
            "object_position": null,
            "object_fit": null,
            "grid_auto_columns": null,
            "margin": null,
            "display": null,
            "left": null
          }
        },
        "3975ebccde08407aae863964ded29e1f": {
          "model_module": "@jupyter-widgets/controls",
          "model_name": "ProgressStyleModel",
          "state": {
            "_view_name": "StyleView",
            "_model_name": "ProgressStyleModel",
            "description_width": "",
            "_view_module": "@jupyter-widgets/base",
            "_model_module_version": "1.5.0",
            "_view_count": null,
            "_view_module_version": "1.2.0",
            "bar_color": null,
            "_model_module": "@jupyter-widgets/controls"
          }
        },
        "e5d4505a5e44458cb31eacf6e4736f9a": {
          "model_module": "@jupyter-widgets/base",
          "model_name": "LayoutModel",
          "state": {
            "_view_name": "LayoutView",
            "grid_template_rows": null,
            "right": null,
            "justify_content": null,
            "_view_module": "@jupyter-widgets/base",
            "overflow": null,
            "_model_module_version": "1.2.0",
            "_view_count": null,
            "flex_flow": null,
            "width": null,
            "min_width": null,
            "border": null,
            "align_items": null,
            "bottom": null,
            "_model_module": "@jupyter-widgets/base",
            "top": null,
            "grid_column": null,
            "overflow_y": null,
            "overflow_x": null,
            "grid_auto_flow": null,
            "grid_area": null,
            "grid_template_columns": null,
            "flex": null,
            "_model_name": "LayoutModel",
            "justify_items": null,
            "grid_row": null,
            "max_height": null,
            "align_content": null,
            "visibility": null,
            "align_self": null,
            "height": null,
            "min_height": null,
            "padding": null,
            "grid_auto_rows": null,
            "grid_gap": null,
            "max_width": null,
            "order": null,
            "_view_module_version": "1.2.0",
            "grid_template_areas": null,
            "object_position": null,
            "object_fit": null,
            "grid_auto_columns": null,
            "margin": null,
            "display": null,
            "left": null
          }
        },
        "c91a68835db94fff82a1cd6616f3efbd": {
          "model_module": "@jupyter-widgets/controls",
          "model_name": "VBoxModel",
          "state": {
            "_view_name": "VBoxView",
            "_dom_classes": [],
            "_model_name": "VBoxModel",
            "_view_module": "@jupyter-widgets/controls",
            "_model_module_version": "1.5.0",
            "_view_count": null,
            "_view_module_version": "1.5.0",
            "box_style": "",
            "layout": "IPY_MODEL_5cd9cb3373eb400bb2fc142071091c72",
            "_model_module": "@jupyter-widgets/controls",
            "children": [
              "IPY_MODEL_9ab2ab509d6d452ca2101e98171d6bde",
              "IPY_MODEL_8d40243bb3174f73aba431526f7dfdb1"
            ]
          }
        },
        "5cd9cb3373eb400bb2fc142071091c72": {
          "model_module": "@jupyter-widgets/base",
          "model_name": "LayoutModel",
          "state": {
            "_view_name": "LayoutView",
            "grid_template_rows": null,
            "right": null,
            "justify_content": null,
            "_view_module": "@jupyter-widgets/base",
            "overflow": null,
            "_model_module_version": "1.2.0",
            "_view_count": null,
            "flex_flow": null,
            "width": null,
            "min_width": null,
            "border": null,
            "align_items": null,
            "bottom": null,
            "_model_module": "@jupyter-widgets/base",
            "top": null,
            "grid_column": null,
            "overflow_y": null,
            "overflow_x": null,
            "grid_auto_flow": null,
            "grid_area": null,
            "grid_template_columns": null,
            "flex": null,
            "_model_name": "LayoutModel",
            "justify_items": null,
            "grid_row": null,
            "max_height": null,
            "align_content": null,
            "visibility": null,
            "align_self": null,
            "height": null,
            "min_height": null,
            "padding": null,
            "grid_auto_rows": null,
            "grid_gap": null,
            "max_width": null,
            "order": null,
            "_view_module_version": "1.2.0",
            "grid_template_areas": null,
            "object_position": null,
            "object_fit": null,
            "grid_auto_columns": null,
            "margin": null,
            "display": null,
            "left": null
          }
        },
        "9ab2ab509d6d452ca2101e98171d6bde": {
          "model_module": "@jupyter-widgets/controls",
          "model_name": "LabelModel",
          "state": {
            "_view_name": "LabelView",
            "style": "IPY_MODEL_f72192950a6b4edca75b0ebe20c6246b",
            "_dom_classes": [],
            "description": "",
            "_model_name": "LabelModel",
            "placeholder": "​",
            "_view_module": "@jupyter-widgets/controls",
            "_model_module_version": "1.5.0",
            "value": " 0.01MB of 0.01MB uploaded (0.00MB deduped)\r",
            "_view_count": null,
            "_view_module_version": "1.5.0",
            "description_tooltip": null,
            "_model_module": "@jupyter-widgets/controls",
            "layout": "IPY_MODEL_b22fdd11e4da4b6f91a4dce04f88d074"
          }
        },
        "8d40243bb3174f73aba431526f7dfdb1": {
          "model_module": "@jupyter-widgets/controls",
          "model_name": "FloatProgressModel",
          "state": {
            "_view_name": "ProgressView",
            "style": "IPY_MODEL_4b7aad9381dc4f339ffdf671d9263097",
            "_dom_classes": [],
            "description": "",
            "_model_name": "FloatProgressModel",
            "bar_style": "",
            "max": 1,
            "_view_module": "@jupyter-widgets/controls",
            "_model_module_version": "1.5.0",
            "value": 1,
            "_view_count": null,
            "_view_module_version": "1.5.0",
            "orientation": "horizontal",
            "min": 0,
            "description_tooltip": null,
            "_model_module": "@jupyter-widgets/controls",
            "layout": "IPY_MODEL_286c54723552472888516e33735547d3"
          }
        },
        "f72192950a6b4edca75b0ebe20c6246b": {
          "model_module": "@jupyter-widgets/controls",
          "model_name": "DescriptionStyleModel",
          "state": {
            "_view_name": "StyleView",
            "_model_name": "DescriptionStyleModel",
            "description_width": "",
            "_view_module": "@jupyter-widgets/base",
            "_model_module_version": "1.5.0",
            "_view_count": null,
            "_view_module_version": "1.2.0",
            "_model_module": "@jupyter-widgets/controls"
          }
        },
        "b22fdd11e4da4b6f91a4dce04f88d074": {
          "model_module": "@jupyter-widgets/base",
          "model_name": "LayoutModel",
          "state": {
            "_view_name": "LayoutView",
            "grid_template_rows": null,
            "right": null,
            "justify_content": null,
            "_view_module": "@jupyter-widgets/base",
            "overflow": null,
            "_model_module_version": "1.2.0",
            "_view_count": null,
            "flex_flow": null,
            "width": null,
            "min_width": null,
            "border": null,
            "align_items": null,
            "bottom": null,
            "_model_module": "@jupyter-widgets/base",
            "top": null,
            "grid_column": null,
            "overflow_y": null,
            "overflow_x": null,
            "grid_auto_flow": null,
            "grid_area": null,
            "grid_template_columns": null,
            "flex": null,
            "_model_name": "LayoutModel",
            "justify_items": null,
            "grid_row": null,
            "max_height": null,
            "align_content": null,
            "visibility": null,
            "align_self": null,
            "height": null,
            "min_height": null,
            "padding": null,
            "grid_auto_rows": null,
            "grid_gap": null,
            "max_width": null,
            "order": null,
            "_view_module_version": "1.2.0",
            "grid_template_areas": null,
            "object_position": null,
            "object_fit": null,
            "grid_auto_columns": null,
            "margin": null,
            "display": null,
            "left": null
          }
        },
        "4b7aad9381dc4f339ffdf671d9263097": {
          "model_module": "@jupyter-widgets/controls",
          "model_name": "ProgressStyleModel",
          "state": {
            "_view_name": "StyleView",
            "_model_name": "ProgressStyleModel",
            "description_width": "",
            "_view_module": "@jupyter-widgets/base",
            "_model_module_version": "1.5.0",
            "_view_count": null,
            "_view_module_version": "1.2.0",
            "bar_color": null,
            "_model_module": "@jupyter-widgets/controls"
          }
        },
        "286c54723552472888516e33735547d3": {
          "model_module": "@jupyter-widgets/base",
          "model_name": "LayoutModel",
          "state": {
            "_view_name": "LayoutView",
            "grid_template_rows": null,
            "right": null,
            "justify_content": null,
            "_view_module": "@jupyter-widgets/base",
            "overflow": null,
            "_model_module_version": "1.2.0",
            "_view_count": null,
            "flex_flow": null,
            "width": null,
            "min_width": null,
            "border": null,
            "align_items": null,
            "bottom": null,
            "_model_module": "@jupyter-widgets/base",
            "top": null,
            "grid_column": null,
            "overflow_y": null,
            "overflow_x": null,
            "grid_auto_flow": null,
            "grid_area": null,
            "grid_template_columns": null,
            "flex": null,
            "_model_name": "LayoutModel",
            "justify_items": null,
            "grid_row": null,
            "max_height": null,
            "align_content": null,
            "visibility": null,
            "align_self": null,
            "height": null,
            "min_height": null,
            "padding": null,
            "grid_auto_rows": null,
            "grid_gap": null,
            "max_width": null,
            "order": null,
            "_view_module_version": "1.2.0",
            "grid_template_areas": null,
            "object_position": null,
            "object_fit": null,
            "grid_auto_columns": null,
            "margin": null,
            "display": null,
            "left": null
          }
        },
        "6bf654a92ead419f8a2a2cb4601f90bd": {
          "model_module": "@jupyter-widgets/controls",
          "model_name": "VBoxModel",
          "state": {
            "_view_name": "VBoxView",
            "_dom_classes": [],
            "_model_name": "VBoxModel",
            "_view_module": "@jupyter-widgets/controls",
            "_model_module_version": "1.5.0",
            "_view_count": null,
            "_view_module_version": "1.5.0",
            "box_style": "",
            "layout": "IPY_MODEL_1492d80670a44b4f9ff05783ce5e2958",
            "_model_module": "@jupyter-widgets/controls",
            "children": [
              "IPY_MODEL_d0189b00e8374aee9881e5b9deff8cc9",
              "IPY_MODEL_f0517e33ed454c2aa0961ece2c797c37"
            ]
          }
        },
        "1492d80670a44b4f9ff05783ce5e2958": {
          "model_module": "@jupyter-widgets/base",
          "model_name": "LayoutModel",
          "state": {
            "_view_name": "LayoutView",
            "grid_template_rows": null,
            "right": null,
            "justify_content": null,
            "_view_module": "@jupyter-widgets/base",
            "overflow": null,
            "_model_module_version": "1.2.0",
            "_view_count": null,
            "flex_flow": null,
            "width": null,
            "min_width": null,
            "border": null,
            "align_items": null,
            "bottom": null,
            "_model_module": "@jupyter-widgets/base",
            "top": null,
            "grid_column": null,
            "overflow_y": null,
            "overflow_x": null,
            "grid_auto_flow": null,
            "grid_area": null,
            "grid_template_columns": null,
            "flex": null,
            "_model_name": "LayoutModel",
            "justify_items": null,
            "grid_row": null,
            "max_height": null,
            "align_content": null,
            "visibility": null,
            "align_self": null,
            "height": null,
            "min_height": null,
            "padding": null,
            "grid_auto_rows": null,
            "grid_gap": null,
            "max_width": null,
            "order": null,
            "_view_module_version": "1.2.0",
            "grid_template_areas": null,
            "object_position": null,
            "object_fit": null,
            "grid_auto_columns": null,
            "margin": null,
            "display": null,
            "left": null
          }
        },
        "d0189b00e8374aee9881e5b9deff8cc9": {
          "model_module": "@jupyter-widgets/controls",
          "model_name": "LabelModel",
          "state": {
            "_view_name": "LabelView",
            "style": "IPY_MODEL_86eb72ccce704ea886b4d189807a55a1",
            "_dom_classes": [],
            "description": "",
            "_model_name": "LabelModel",
            "placeholder": "​",
            "_view_module": "@jupyter-widgets/controls",
            "_model_module_version": "1.5.0",
            "value": " 25.90MB of 25.90MB uploaded (0.00MB deduped)\r",
            "_view_count": null,
            "_view_module_version": "1.5.0",
            "description_tooltip": null,
            "_model_module": "@jupyter-widgets/controls",
            "layout": "IPY_MODEL_60798ec8e86a46d9af453bd5905ccb74"
          }
        },
        "f0517e33ed454c2aa0961ece2c797c37": {
          "model_module": "@jupyter-widgets/controls",
          "model_name": "FloatProgressModel",
          "state": {
            "_view_name": "ProgressView",
            "style": "IPY_MODEL_8d699dc91fad4b4eac50de7f7ce938fe",
            "_dom_classes": [],
            "description": "",
            "_model_name": "FloatProgressModel",
            "bar_style": "",
            "max": 1,
            "_view_module": "@jupyter-widgets/controls",
            "_model_module_version": "1.5.0",
            "value": 1,
            "_view_count": null,
            "_view_module_version": "1.5.0",
            "orientation": "horizontal",
            "min": 0,
            "description_tooltip": null,
            "_model_module": "@jupyter-widgets/controls",
            "layout": "IPY_MODEL_f7453ccc5d40417a958880b78af0d671"
          }
        },
        "86eb72ccce704ea886b4d189807a55a1": {
          "model_module": "@jupyter-widgets/controls",
          "model_name": "DescriptionStyleModel",
          "state": {
            "_view_name": "StyleView",
            "_model_name": "DescriptionStyleModel",
            "description_width": "",
            "_view_module": "@jupyter-widgets/base",
            "_model_module_version": "1.5.0",
            "_view_count": null,
            "_view_module_version": "1.2.0",
            "_model_module": "@jupyter-widgets/controls"
          }
        },
        "60798ec8e86a46d9af453bd5905ccb74": {
          "model_module": "@jupyter-widgets/base",
          "model_name": "LayoutModel",
          "state": {
            "_view_name": "LayoutView",
            "grid_template_rows": null,
            "right": null,
            "justify_content": null,
            "_view_module": "@jupyter-widgets/base",
            "overflow": null,
            "_model_module_version": "1.2.0",
            "_view_count": null,
            "flex_flow": null,
            "width": null,
            "min_width": null,
            "border": null,
            "align_items": null,
            "bottom": null,
            "_model_module": "@jupyter-widgets/base",
            "top": null,
            "grid_column": null,
            "overflow_y": null,
            "overflow_x": null,
            "grid_auto_flow": null,
            "grid_area": null,
            "grid_template_columns": null,
            "flex": null,
            "_model_name": "LayoutModel",
            "justify_items": null,
            "grid_row": null,
            "max_height": null,
            "align_content": null,
            "visibility": null,
            "align_self": null,
            "height": null,
            "min_height": null,
            "padding": null,
            "grid_auto_rows": null,
            "grid_gap": null,
            "max_width": null,
            "order": null,
            "_view_module_version": "1.2.0",
            "grid_template_areas": null,
            "object_position": null,
            "object_fit": null,
            "grid_auto_columns": null,
            "margin": null,
            "display": null,
            "left": null
          }
        },
        "8d699dc91fad4b4eac50de7f7ce938fe": {
          "model_module": "@jupyter-widgets/controls",
          "model_name": "ProgressStyleModel",
          "state": {
            "_view_name": "StyleView",
            "_model_name": "ProgressStyleModel",
            "description_width": "",
            "_view_module": "@jupyter-widgets/base",
            "_model_module_version": "1.5.0",
            "_view_count": null,
            "_view_module_version": "1.2.0",
            "bar_color": null,
            "_model_module": "@jupyter-widgets/controls"
          }
        },
        "f7453ccc5d40417a958880b78af0d671": {
          "model_module": "@jupyter-widgets/base",
          "model_name": "LayoutModel",
          "state": {
            "_view_name": "LayoutView",
            "grid_template_rows": null,
            "right": null,
            "justify_content": null,
            "_view_module": "@jupyter-widgets/base",
            "overflow": null,
            "_model_module_version": "1.2.0",
            "_view_count": null,
            "flex_flow": null,
            "width": null,
            "min_width": null,
            "border": null,
            "align_items": null,
            "bottom": null,
            "_model_module": "@jupyter-widgets/base",
            "top": null,
            "grid_column": null,
            "overflow_y": null,
            "overflow_x": null,
            "grid_auto_flow": null,
            "grid_area": null,
            "grid_template_columns": null,
            "flex": null,
            "_model_name": "LayoutModel",
            "justify_items": null,
            "grid_row": null,
            "max_height": null,
            "align_content": null,
            "visibility": null,
            "align_self": null,
            "height": null,
            "min_height": null,
            "padding": null,
            "grid_auto_rows": null,
            "grid_gap": null,
            "max_width": null,
            "order": null,
            "_view_module_version": "1.2.0",
            "grid_template_areas": null,
            "object_position": null,
            "object_fit": null,
            "grid_auto_columns": null,
            "margin": null,
            "display": null,
            "left": null
          }
        },
        "cea8900cb7a3420d9c9683d8f65fdea9": {
          "model_module": "@jupyter-widgets/controls",
          "model_name": "VBoxModel",
          "state": {
            "_view_name": "VBoxView",
            "_dom_classes": [],
            "_model_name": "VBoxModel",
            "_view_module": "@jupyter-widgets/controls",
            "_model_module_version": "1.5.0",
            "_view_count": null,
            "_view_module_version": "1.5.0",
            "box_style": "",
            "layout": "IPY_MODEL_5074313737ce4a559cbb419d49ad5ac3",
            "_model_module": "@jupyter-widgets/controls",
            "children": [
              "IPY_MODEL_b11fdde61fa54cd0945211b3d30443eb",
              "IPY_MODEL_185095a1513e4a9ab4a511ba08fe072e"
            ]
          }
        },
        "5074313737ce4a559cbb419d49ad5ac3": {
          "model_module": "@jupyter-widgets/base",
          "model_name": "LayoutModel",
          "state": {
            "_view_name": "LayoutView",
            "grid_template_rows": null,
            "right": null,
            "justify_content": null,
            "_view_module": "@jupyter-widgets/base",
            "overflow": null,
            "_model_module_version": "1.2.0",
            "_view_count": null,
            "flex_flow": null,
            "width": null,
            "min_width": null,
            "border": null,
            "align_items": null,
            "bottom": null,
            "_model_module": "@jupyter-widgets/base",
            "top": null,
            "grid_column": null,
            "overflow_y": null,
            "overflow_x": null,
            "grid_auto_flow": null,
            "grid_area": null,
            "grid_template_columns": null,
            "flex": null,
            "_model_name": "LayoutModel",
            "justify_items": null,
            "grid_row": null,
            "max_height": null,
            "align_content": null,
            "visibility": null,
            "align_self": null,
            "height": null,
            "min_height": null,
            "padding": null,
            "grid_auto_rows": null,
            "grid_gap": null,
            "max_width": null,
            "order": null,
            "_view_module_version": "1.2.0",
            "grid_template_areas": null,
            "object_position": null,
            "object_fit": null,
            "grid_auto_columns": null,
            "margin": null,
            "display": null,
            "left": null
          }
        },
        "b11fdde61fa54cd0945211b3d30443eb": {
          "model_module": "@jupyter-widgets/controls",
          "model_name": "LabelModel",
          "state": {
            "_view_name": "LabelView",
            "style": "IPY_MODEL_80b60f76d42349188d0916d9480de2a4",
            "_dom_classes": [],
            "description": "",
            "_model_name": "LabelModel",
            "placeholder": "​",
            "_view_module": "@jupyter-widgets/controls",
            "_model_module_version": "1.5.0",
            "value": " 0.01MB of 0.01MB uploaded (0.00MB deduped)\r",
            "_view_count": null,
            "_view_module_version": "1.5.0",
            "description_tooltip": null,
            "_model_module": "@jupyter-widgets/controls",
            "layout": "IPY_MODEL_e69af79d3d594386a4a63dd55902ffd1"
          }
        },
        "185095a1513e4a9ab4a511ba08fe072e": {
          "model_module": "@jupyter-widgets/controls",
          "model_name": "FloatProgressModel",
          "state": {
            "_view_name": "ProgressView",
            "style": "IPY_MODEL_7d7d053550944a8db06034697fe32b70",
            "_dom_classes": [],
            "description": "",
            "_model_name": "FloatProgressModel",
            "bar_style": "",
            "max": 1,
            "_view_module": "@jupyter-widgets/controls",
            "_model_module_version": "1.5.0",
            "value": 1,
            "_view_count": null,
            "_view_module_version": "1.5.0",
            "orientation": "horizontal",
            "min": 0,
            "description_tooltip": null,
            "_model_module": "@jupyter-widgets/controls",
            "layout": "IPY_MODEL_e3fec65a2407418c97eab945fa52fb53"
          }
        },
        "80b60f76d42349188d0916d9480de2a4": {
          "model_module": "@jupyter-widgets/controls",
          "model_name": "DescriptionStyleModel",
          "state": {
            "_view_name": "StyleView",
            "_model_name": "DescriptionStyleModel",
            "description_width": "",
            "_view_module": "@jupyter-widgets/base",
            "_model_module_version": "1.5.0",
            "_view_count": null,
            "_view_module_version": "1.2.0",
            "_model_module": "@jupyter-widgets/controls"
          }
        },
        "e69af79d3d594386a4a63dd55902ffd1": {
          "model_module": "@jupyter-widgets/base",
          "model_name": "LayoutModel",
          "state": {
            "_view_name": "LayoutView",
            "grid_template_rows": null,
            "right": null,
            "justify_content": null,
            "_view_module": "@jupyter-widgets/base",
            "overflow": null,
            "_model_module_version": "1.2.0",
            "_view_count": null,
            "flex_flow": null,
            "width": null,
            "min_width": null,
            "border": null,
            "align_items": null,
            "bottom": null,
            "_model_module": "@jupyter-widgets/base",
            "top": null,
            "grid_column": null,
            "overflow_y": null,
            "overflow_x": null,
            "grid_auto_flow": null,
            "grid_area": null,
            "grid_template_columns": null,
            "flex": null,
            "_model_name": "LayoutModel",
            "justify_items": null,
            "grid_row": null,
            "max_height": null,
            "align_content": null,
            "visibility": null,
            "align_self": null,
            "height": null,
            "min_height": null,
            "padding": null,
            "grid_auto_rows": null,
            "grid_gap": null,
            "max_width": null,
            "order": null,
            "_view_module_version": "1.2.0",
            "grid_template_areas": null,
            "object_position": null,
            "object_fit": null,
            "grid_auto_columns": null,
            "margin": null,
            "display": null,
            "left": null
          }
        },
        "7d7d053550944a8db06034697fe32b70": {
          "model_module": "@jupyter-widgets/controls",
          "model_name": "ProgressStyleModel",
          "state": {
            "_view_name": "StyleView",
            "_model_name": "ProgressStyleModel",
            "description_width": "",
            "_view_module": "@jupyter-widgets/base",
            "_model_module_version": "1.5.0",
            "_view_count": null,
            "_view_module_version": "1.2.0",
            "bar_color": null,
            "_model_module": "@jupyter-widgets/controls"
          }
        },
        "e3fec65a2407418c97eab945fa52fb53": {
          "model_module": "@jupyter-widgets/base",
          "model_name": "LayoutModel",
          "state": {
            "_view_name": "LayoutView",
            "grid_template_rows": null,
            "right": null,
            "justify_content": null,
            "_view_module": "@jupyter-widgets/base",
            "overflow": null,
            "_model_module_version": "1.2.0",
            "_view_count": null,
            "flex_flow": null,
            "width": null,
            "min_width": null,
            "border": null,
            "align_items": null,
            "bottom": null,
            "_model_module": "@jupyter-widgets/base",
            "top": null,
            "grid_column": null,
            "overflow_y": null,
            "overflow_x": null,
            "grid_auto_flow": null,
            "grid_area": null,
            "grid_template_columns": null,
            "flex": null,
            "_model_name": "LayoutModel",
            "justify_items": null,
            "grid_row": null,
            "max_height": null,
            "align_content": null,
            "visibility": null,
            "align_self": null,
            "height": null,
            "min_height": null,
            "padding": null,
            "grid_auto_rows": null,
            "grid_gap": null,
            "max_width": null,
            "order": null,
            "_view_module_version": "1.2.0",
            "grid_template_areas": null,
            "object_position": null,
            "object_fit": null,
            "grid_auto_columns": null,
            "margin": null,
            "display": null,
            "left": null
          }
        }
      }
    },
    "accelerator": "GPU"
  },
  "cells": [
    {
      "cell_type": "code",
      "metadata": {
        "id": "iZ4alvF1PJKc"
      },
      "source": [
        "src_url = \"https://storage.googleapis.com/wandb_datasets/nature_12K.zip\"\n",
        "src_zip = \"nature_12K.zip\"\n",
        "DATA_TRAIN_SRC = \"inaturalist_12K/train\" \n",
        "DATA_TEST_SRC = \"inaturalist_12K/val\"\n",
        "TRAIN_IMAGES_PER_LABEL = 1000\n",
        "TEST_IMAGES_PER_LABEL = 200\n",
        "BALANCED_SPLITS = {\"train\" : 900, \"val\" : 100}"
      ],
      "execution_count": 32,
      "outputs": []
    },
    {
      "cell_type": "code",
      "metadata": {
        "id": "tvmkELlpPQHJ"
      },
      "source": [
        "%%capture\n",
        "!curl -SL $src_url > $src_zip\n",
        "!unzip $src_zip"
      ],
      "execution_count": 33,
      "outputs": []
    },
    {
      "cell_type": "code",
      "metadata": {
        "colab": {
          "base_uri": "https://localhost:8080/"
        },
        "id": "V3A62DDWPxTf",
        "outputId": "592f06e7-ed33-46c7-a1f2-f3c7c207a477"
      },
      "source": [
        "import tensorflow as tf\n",
        "from tensorflow.keras.preprocessing.image import ImageDataGenerator\n",
        "import os\n",
        "import numpy as np\n",
        "import matplotlib.pyplot as plt\n",
        "from random import shuffle\n",
        "\n",
        "!pip3 install tensorflow -qqq\n",
        "!pip3 install wandb -qqq\n",
        "import wandb\n",
        "!wandb login\n",
        "from wandb.keras import WandbCallback"
      ],
      "execution_count": 34,
      "outputs": [
        {
          "output_type": "stream",
          "text": [
            "\u001b[34m\u001b[1mwandb\u001b[0m: Currently logged in as: \u001b[33mrohithd\u001b[0m (use `wandb login --relogin` to force relogin)\n"
          ],
          "name": "stdout"
        }
      ]
    },
    {
      "cell_type": "code",
      "metadata": {
        "id": "k3hRW3jH98mZ"
      },
      "source": [
        "PROJECT_NAME = \"CS6910 ASSIGNMENT 2\""
      ],
      "execution_count": 35,
      "outputs": []
    },
    {
      "cell_type": "markdown",
      "metadata": {
        "id": "Pa2NBeWiP43D"
      },
      "source": [
        "**Upload Raw Train Data**"
      ]
    },
    {
      "cell_type": "code",
      "metadata": {
        "colab": {
          "base_uri": "https://localhost:8080/",
          "height": 444,
          "referenced_widgets": [
            "102bda7c08a44956adf1ed1b8de32a66",
            "c13be1a803dc4f3eba9bc783204052a9",
            "32c4b3f07e2c4ec697b9220d35ab1eb5",
            "80502614ec9e44fba46f87cdbc8fae7c",
            "4877fd14fbb94a9e97487b4e51d8b563",
            "4ab2b3fbeca8441dba30e75ef4f5cfb0",
            "6887ba9eb97d4cd6a60abf85235f86a8",
            "a0f5436615704419b5acaa01b65bf9e8",
            "4c850f4a2ec649878d1b3aede25d6398",
            "1db13d9a2a5c451eb4a3ec655700d1d6",
            "92edfedc6fe844ae85b01bb0a79d0eb8",
            "968258e469bc441ea8502ea8ef86319e",
            "f8b17bd013954548b538f66c91f29563",
            "7c59acee43a74d77acd9f1b3028aa18e",
            "3975ebccde08407aae863964ded29e1f",
            "e5d4505a5e44458cb31eacf6e4736f9a"
          ]
        },
        "id": "IIgV7Ef9P9cM",
        "outputId": "096c5bda-b78d-4171-9a34-c422a463a555"
      },
      "source": [
        "# source directory for all raw train data\n",
        "SRC_TRAIN = DATA_TRAIN_SRC\n",
        "# number of images per class label\n",
        "# the total number of images is 10X this (10 classes)\n",
        "TOTAL_IMAGES = TRAIN_IMAGES_PER_LABEL * 10\n",
        "PREFIX_1 = \"train\" # convenient for tracking local data\n",
        "\n",
        "TRAIN_RAW_DATA_AT = \"_\".join([PREFIX_1, \"raw_data\", str(TOTAL_IMAGES)])\n",
        "run = wandb.init(project=PROJECT_NAME, job_type=\"upload\")\n",
        "\n",
        "# create an artifact for all the raw data\n",
        "raw_data_at = wandb.Artifact(TRAIN_RAW_DATA_AT, type=\"raw_data\")\n",
        "\n",
        "# SRC_DIR contains 10 folders, one for each of 10 class labels\n",
        "# each folder contains images of the corresponding class\n",
        "labels = os.listdir(SRC_TRAIN)\n",
        "for l in labels:\n",
        "  imgs_per_label = os.path.join(SRC_TRAIN, l)\n",
        "  if os.path.isdir(imgs_per_label):\n",
        "    imgs = os.listdir(imgs_per_label)\n",
        "    # randomize the order\n",
        "    shuffle(imgs)\n",
        "    img_file_ids = imgs[:TRAIN_IMAGES_PER_LABEL]\n",
        "    for f in img_file_ids:\n",
        "      file_path = os.path.join(SRC_TRAIN, l, f)\n",
        "      # add file to artifact by full path\n",
        "      raw_data_at.add_file(file_path, name=l + \"/\" + f)\n",
        "\n",
        "# save artifact to W&B\n",
        "run.log_artifact(raw_data_at)\n",
        "run.finish()"
      ],
      "execution_count": null,
      "outputs": [
        {
          "output_type": "display_data",
          "data": {
            "text/html": [
              "Finishing last run (ID:3m6t2jax) before initializing another..."
            ],
            "text/plain": [
              "<IPython.core.display.HTML object>"
            ]
          },
          "metadata": {
            "tags": []
          }
        },
        {
          "output_type": "display_data",
          "data": {
            "text/html": [
              "<br/>Waiting for W&B process to finish, PID 212<br/>Program ended successfully."
            ],
            "text/plain": [
              "<IPython.core.display.HTML object>"
            ]
          },
          "metadata": {
            "tags": []
          }
        },
        {
          "output_type": "display_data",
          "data": {
            "application/vnd.jupyter.widget-view+json": {
              "model_id": "102bda7c08a44956adf1ed1b8de32a66",
              "version_minor": 0,
              "version_major": 2
            },
            "text/plain": [
              "VBox(children=(Label(value=' 0.00MB of 0.00MB uploaded (0.00MB deduped)\\r'), FloatProgress(value=1.0, max=1.0)…"
            ]
          },
          "metadata": {
            "tags": []
          }
        },
        {
          "output_type": "display_data",
          "data": {
            "text/html": [
              "Find user logs for this run at: <code>/content/wandb/run-20210413_210429-3m6t2jax/logs/debug.log</code>"
            ],
            "text/plain": [
              "<IPython.core.display.HTML object>"
            ]
          },
          "metadata": {
            "tags": []
          }
        },
        {
          "output_type": "display_data",
          "data": {
            "text/html": [
              "Find internal logs for this run at: <code>/content/wandb/run-20210413_210429-3m6t2jax/logs/debug-internal.log</code>"
            ],
            "text/plain": [
              "<IPython.core.display.HTML object>"
            ]
          },
          "metadata": {
            "tags": []
          }
        },
        {
          "output_type": "display_data",
          "data": {
            "text/html": [
              "Synced 4 W&B file(s), 0 media file(s), 0 artifact file(s) and 0 other file(s)"
            ],
            "text/plain": [
              "<IPython.core.display.HTML object>"
            ]
          },
          "metadata": {
            "tags": []
          }
        },
        {
          "output_type": "display_data",
          "data": {
            "text/html": [
              "\n",
              "                    <br/>Synced <strong style=\"color:#cdcd00\">lucky-sponge-35</strong>: <a href=\"https://wandb.ai/rohithd/CS6910%20ASSIGNMENT%202/runs/3m6t2jax\" target=\"_blank\">https://wandb.ai/rohithd/CS6910%20ASSIGNMENT%202/runs/3m6t2jax</a><br/>\n",
              "                "
            ],
            "text/plain": [
              "<IPython.core.display.HTML object>"
            ]
          },
          "metadata": {
            "tags": []
          }
        },
        {
          "output_type": "display_data",
          "data": {
            "text/html": [
              "...Successfully finished last run (ID:3m6t2jax). Initializing new run:<br/><br/>"
            ],
            "text/plain": [
              "<IPython.core.display.HTML object>"
            ]
          },
          "metadata": {
            "tags": []
          }
        },
        {
          "output_type": "display_data",
          "data": {
            "text/html": [
              "\n",
              "                Tracking run with wandb version 0.10.25<br/>\n",
              "                Syncing run <strong style=\"color:#cdcd00\">confused-shape-36</strong> to <a href=\"https://wandb.ai\" target=\"_blank\">Weights & Biases</a> <a href=\"https://docs.wandb.com/integrations/jupyter.html\" target=\"_blank\">(Documentation)</a>.<br/>\n",
              "                Project page: <a href=\"https://wandb.ai/rohithd/CS6910%20ASSIGNMENT%202\" target=\"_blank\">https://wandb.ai/rohithd/CS6910%20ASSIGNMENT%202</a><br/>\n",
              "                Run page: <a href=\"https://wandb.ai/rohithd/CS6910%20ASSIGNMENT%202/runs/382hjzwu\" target=\"_blank\">https://wandb.ai/rohithd/CS6910%20ASSIGNMENT%202/runs/382hjzwu</a><br/>\n",
              "                Run data is saved locally in <code>/content/wandb/run-20210413_210719-382hjzwu</code><br/><br/>\n",
              "            "
            ],
            "text/plain": [
              "<IPython.core.display.HTML object>"
            ]
          },
          "metadata": {
            "tags": []
          }
        },
        {
          "output_type": "display_data",
          "data": {
            "text/html": [
              "<br/>Waiting for W&B process to finish, PID 269<br/>Program ended successfully."
            ],
            "text/plain": [
              "<IPython.core.display.HTML object>"
            ]
          },
          "metadata": {
            "tags": []
          }
        },
        {
          "output_type": "display_data",
          "data": {
            "application/vnd.jupyter.widget-view+json": {
              "model_id": "4c850f4a2ec649878d1b3aede25d6398",
              "version_minor": 0,
              "version_major": 2
            },
            "text/plain": [
              "VBox(children=(Label(value=' 0.00MB of 0.00MB uploaded (0.00MB deduped)\\r'), FloatProgress(value=1.0, max=1.0)…"
            ]
          },
          "metadata": {
            "tags": []
          }
        },
        {
          "output_type": "display_data",
          "data": {
            "text/html": [
              "Find user logs for this run at: <code>/content/wandb/run-20210413_210719-382hjzwu/logs/debug.log</code>"
            ],
            "text/plain": [
              "<IPython.core.display.HTML object>"
            ]
          },
          "metadata": {
            "tags": []
          }
        },
        {
          "output_type": "display_data",
          "data": {
            "text/html": [
              "Find internal logs for this run at: <code>/content/wandb/run-20210413_210719-382hjzwu/logs/debug-internal.log</code>"
            ],
            "text/plain": [
              "<IPython.core.display.HTML object>"
            ]
          },
          "metadata": {
            "tags": []
          }
        },
        {
          "output_type": "display_data",
          "data": {
            "text/html": [
              "Synced 4 W&B file(s), 0 media file(s), 0 artifact file(s) and 0 other file(s)"
            ],
            "text/plain": [
              "<IPython.core.display.HTML object>"
            ]
          },
          "metadata": {
            "tags": []
          }
        },
        {
          "output_type": "display_data",
          "data": {
            "text/html": [
              "\n",
              "                    <br/>Synced <strong style=\"color:#cdcd00\">confused-shape-36</strong>: <a href=\"https://wandb.ai/rohithd/CS6910%20ASSIGNMENT%202/runs/382hjzwu\" target=\"_blank\">https://wandb.ai/rohithd/CS6910%20ASSIGNMENT%202/runs/382hjzwu</a><br/>\n",
              "                "
            ],
            "text/plain": [
              "<IPython.core.display.HTML object>"
            ]
          },
          "metadata": {
            "tags": []
          }
        }
      ]
    },
    {
      "cell_type": "markdown",
      "metadata": {
        "id": "MYLO8XNzQJZL"
      },
      "source": [
        "**Upload Raw Test Data**"
      ]
    },
    {
      "cell_type": "code",
      "metadata": {
        "colab": {
          "base_uri": "https://localhost:8080/",
          "height": 251,
          "referenced_widgets": [
            "c91a68835db94fff82a1cd6616f3efbd",
            "5cd9cb3373eb400bb2fc142071091c72",
            "9ab2ab509d6d452ca2101e98171d6bde",
            "8d40243bb3174f73aba431526f7dfdb1",
            "f72192950a6b4edca75b0ebe20c6246b",
            "b22fdd11e4da4b6f91a4dce04f88d074",
            "4b7aad9381dc4f339ffdf671d9263097",
            "286c54723552472888516e33735547d3"
          ]
        },
        "id": "rRNOd-uYQKpC",
        "outputId": "d1b99758-b1e8-4d97-8d4e-f55f589a638e"
      },
      "source": [
        "# source directory for all raw train data\n",
        "SRC_TEST = DATA_TEST_SRC\n",
        "# number of images per class label\n",
        "# the total number of images is 10X this (10 classes)\n",
        "TOTAL_IMAGES = TEST_IMAGES_PER_LABEL * 10\n",
        "PREFIX_2 = \"test\" # convenient for tracking local data\n",
        "\n",
        "TEST_RAW_DATA_AT = \"_\".join([PREFIX_2, \"raw_data\", str(TOTAL_IMAGES)])\n",
        "run = wandb.init(project=PROJECT_NAME, job_type=\"upload\")\n",
        "\n",
        "# create an artifact for all the raw data\n",
        "raw_data_at = wandb.Artifact(TEST_RAW_DATA_AT, type=\"raw_data\")\n",
        "\n",
        "# SRC_DIR contains 10 folders, one for each of 10 class labels\n",
        "# each folder contains images of the corresponding class\n",
        "labels = os.listdir(SRC_TEST)\n",
        "for l in labels:\n",
        "  imgs_per_label = os.path.join(SRC_TEST, l)\n",
        "  if os.path.isdir(imgs_per_label):\n",
        "    imgs = os.listdir(imgs_per_label)\n",
        "    # randomize the order\n",
        "    shuffle(imgs)\n",
        "    img_file_ids = imgs[:TEST_IMAGES_PER_LABEL]\n",
        "    for f in img_file_ids:\n",
        "      file_path = os.path.join(SRC_TEST, l, f)\n",
        "      # add file to artifact by full path\n",
        "      raw_data_at.add_file(file_path, name=l + \"/\" + f)\n",
        "\n",
        "# save artifact to W&B\n",
        "run.log_artifact(raw_data_at)\n",
        "run.finish()"
      ],
      "execution_count": 36,
      "outputs": [
        {
          "output_type": "display_data",
          "data": {
            "text/html": [
              "\n",
              "                Tracking run with wandb version 0.10.26<br/>\n",
              "                Syncing run <strong style=\"color:#cdcd00\">fast-serenity-47</strong> to <a href=\"https://wandb.ai\" target=\"_blank\">Weights & Biases</a> <a href=\"https://docs.wandb.com/integrations/jupyter.html\" target=\"_blank\">(Documentation)</a>.<br/>\n",
              "                Project page: <a href=\"https://wandb.ai/rohithd/CS6910%20ASSIGNMENT%202\" target=\"_blank\">https://wandb.ai/rohithd/CS6910%20ASSIGNMENT%202</a><br/>\n",
              "                Run page: <a href=\"https://wandb.ai/rohithd/CS6910%20ASSIGNMENT%202/runs/a2svnb5w\" target=\"_blank\">https://wandb.ai/rohithd/CS6910%20ASSIGNMENT%202/runs/a2svnb5w</a><br/>\n",
              "                Run data is saved locally in <code>/content/wandb/run-20210414_094115-a2svnb5w</code><br/><br/>\n",
              "            "
            ],
            "text/plain": [
              "<IPython.core.display.HTML object>"
            ]
          },
          "metadata": {
            "tags": []
          }
        },
        {
          "output_type": "display_data",
          "data": {
            "text/html": [
              "<br/>Waiting for W&B process to finish, PID 834<br/>Program ended successfully."
            ],
            "text/plain": [
              "<IPython.core.display.HTML object>"
            ]
          },
          "metadata": {
            "tags": []
          }
        },
        {
          "output_type": "display_data",
          "data": {
            "application/vnd.jupyter.widget-view+json": {
              "model_id": "c91a68835db94fff82a1cd6616f3efbd",
              "version_minor": 0,
              "version_major": 2
            },
            "text/plain": [
              "VBox(children=(Label(value=' 0.00MB of 0.00MB uploaded (0.00MB deduped)\\r'), FloatProgress(value=1.0, max=1.0)…"
            ]
          },
          "metadata": {
            "tags": []
          }
        },
        {
          "output_type": "display_data",
          "data": {
            "text/html": [
              "Find user logs for this run at: <code>/content/wandb/run-20210414_094115-a2svnb5w/logs/debug.log</code>"
            ],
            "text/plain": [
              "<IPython.core.display.HTML object>"
            ]
          },
          "metadata": {
            "tags": []
          }
        },
        {
          "output_type": "display_data",
          "data": {
            "text/html": [
              "Find internal logs for this run at: <code>/content/wandb/run-20210414_094115-a2svnb5w/logs/debug-internal.log</code>"
            ],
            "text/plain": [
              "<IPython.core.display.HTML object>"
            ]
          },
          "metadata": {
            "tags": []
          }
        },
        {
          "output_type": "display_data",
          "data": {
            "text/html": [
              "Synced 4 W&B file(s), 0 media file(s), 0 artifact file(s) and 0 other file(s)"
            ],
            "text/plain": [
              "<IPython.core.display.HTML object>"
            ]
          },
          "metadata": {
            "tags": []
          }
        },
        {
          "output_type": "display_data",
          "data": {
            "text/html": [
              "\n",
              "                    <br/>Synced <strong style=\"color:#cdcd00\">fast-serenity-47</strong>: <a href=\"https://wandb.ai/rohithd/CS6910%20ASSIGNMENT%202/runs/a2svnb5w\" target=\"_blank\">https://wandb.ai/rohithd/CS6910%20ASSIGNMENT%202/runs/a2svnb5w</a><br/>\n",
              "                "
            ],
            "text/plain": [
              "<IPython.core.display.HTML object>"
            ]
          },
          "metadata": {
            "tags": []
          }
        }
      ]
    },
    {
      "cell_type": "markdown",
      "metadata": {
        "id": "wVNjFxxCQOYx"
      },
      "source": [
        "**Split Train Data into Train and Validation**"
      ]
    },
    {
      "cell_type": "code",
      "metadata": {
        "colab": {
          "base_uri": "https://localhost:8080/",
          "height": 205
        },
        "id": "O7jiHiPkQScG",
        "outputId": "00800ebc-d4d5-4d36-d6bb-aa3a56b48958"
      },
      "source": [
        "run = wandb.init(project=PROJECT_NAME, job_type=\"data_split\")\n",
        "\n",
        "# find the most recent (\"latest\") version of the full raw data\n",
        "# you can of course pass around programmatic aliases and not string literals\n",
        "data_at = run.use_artifact(TRAIN_RAW_DATA_AT + \":latest\")\n",
        "# download it locally (for illustration purposes/across hardware; you can\n",
        "# also sync/version artifacts by reference)\n",
        "data_dir = data_at.download()\n",
        "\n",
        "# create balanced train, val, test splits\n",
        "# each count is the number of images per label\n",
        "DATA_SPLITS = BALANCED_SPLITS\n",
        "\n",
        "ats = {}\n",
        "# wrap artifacts in dictionary for convenience\n",
        "for split, count in DATA_SPLITS.items():\n",
        "  ats[split] = wandb.Artifact(\"_\".join([PREFIX_1, split, \"data\", str(count*10)]), \n",
        "                              \"_\".join([split, \"data\"]))\n",
        "\n",
        "labels = os.listdir(data_dir)\n",
        "for l in labels:\n",
        "  if l.startswith(\".\"): # skip non-label file\n",
        "    continue\n",
        "  imgs_per_label = os.listdir(os.path.join(data_dir, l))\n",
        "  shuffle(imgs_per_label)\n",
        "  start_id = 0\n",
        "  for split, count in DATA_SPLITS.items():\n",
        "    # take a subset\n",
        "    split_imgs = imgs_per_label[start_id:start_id+count]\n",
        "    for img_file in split_imgs:\n",
        "      full_path = os.path.join(data_dir, l, img_file)\n",
        "      # add file to artifact by full path\n",
        "      # note: pass the label to the name parameter to retain it in\n",
        "      # the data structure \n",
        "      ats[split].add_file(full_path, name = os.path.join(l, img_file))\n",
        "    start_id += count\n",
        "\n",
        "# save all three artifacts to W&B\n",
        "# note: yes, in this example, we are cheating and have labels for the \"val\" data ;)\n",
        "for split, artifact in ats.items():\n",
        "  run.log_artifact(artifact)\n",
        "\n",
        "run.finish()"
      ],
      "execution_count": null,
      "outputs": [
        {
          "output_type": "display_data",
          "data": {
            "text/html": [
              "\n",
              "                Tracking run with wandb version 0.10.25<br/>\n",
              "                Syncing run <strong style=\"color:#cdcd00\">crimson-snow-38</strong> to <a href=\"https://wandb.ai\" target=\"_blank\">Weights & Biases</a> <a href=\"https://docs.wandb.com/integrations/jupyter.html\" target=\"_blank\">(Documentation)</a>.<br/>\n",
              "                Project page: <a href=\"https://wandb.ai/rohithd/CS6910%20ASSIGNMENT%202\" target=\"_blank\">https://wandb.ai/rohithd/CS6910%20ASSIGNMENT%202</a><br/>\n",
              "                Run page: <a href=\"https://wandb.ai/rohithd/CS6910%20ASSIGNMENT%202/runs/1t2wzffp\" target=\"_blank\">https://wandb.ai/rohithd/CS6910%20ASSIGNMENT%202/runs/1t2wzffp</a><br/>\n",
              "                Run data is saved locally in <code>/content/wandb/run-20210413_210931-1t2wzffp</code><br/><br/>\n",
              "            "
            ],
            "text/plain": [
              "<IPython.core.display.HTML object>"
            ]
          },
          "metadata": {
            "tags": []
          }
        },
        {
          "output_type": "stream",
          "text": [
            "\u001b[34m\u001b[1mwandb\u001b[0m: Downloading large artifact train_raw_data_10000:latest, 3044.53MB. 10000 files... Done. 0:0:0\n"
          ],
          "name": "stderr"
        },
        {
          "output_type": "display_data",
          "data": {
            "text/html": [
              "<br/>Waiting for W&B process to finish, PID 345<br/>Program ended successfully."
            ],
            "text/plain": [
              "<IPython.core.display.HTML object>"
            ]
          },
          "metadata": {
            "tags": []
          }
        },
        {
          "output_type": "stream",
          "text": [
            "\u001b[34m\u001b[1mwandb\u001b[0m: \u001b[32m\u001b[41mERROR\u001b[0m Control-C detected -- Run data was not synced\n"
          ],
          "name": "stderr"
        }
      ]
    },
    {
      "cell_type": "markdown",
      "metadata": {
        "id": "ts9vO5gjQkEC"
      },
      "source": [
        "**Default Configuration**"
      ]
    },
    {
      "cell_type": "code",
      "metadata": {
        "id": "VKGymf0TQuiZ"
      },
      "source": [
        "MODEL_NAME = \"CNN\"\n",
        "FINAL_MODEL_DIR = \"trained_CNN\"\n",
        "\n",
        "config_defaults = {\n",
        "    \"img_size\" : 229,\n",
        "    \"batch_size\" : 100,\n",
        "    \"n_classes\" : 10,\n",
        "    \"n_filters\" : [16,32,64,64,128],\n",
        "    \"filter_size\" : [3,3,3,3,3],\n",
        "    \"fc_size\" : 400,\n",
        "    \"drop_out\" : 0.5,\n",
        "    \"augmentation\" : 1,\n",
        "    \"batch_normalize\" : 1 \n",
        "}\n",
        "\n",
        "n_train = BALANCED_SPLITS[\"train\"] * 10\n",
        "n_val = BALANCED_SPLITS[\"val\"] * 10\n",
        "n_epochs = 14"
      ],
      "execution_count": null,
      "outputs": []
    },
    {
      "cell_type": "markdown",
      "metadata": {
        "id": "fcUa0BxaQ4yG"
      },
      "source": [
        "**Define and Compile Model**"
      ]
    },
    {
      "cell_type": "code",
      "metadata": {
        "id": "hea7B2_1Q5rl"
      },
      "source": [
        "def cnn_model_1(img_size,n_filters,filter_size,fc_size,drop_out,n_classes):\n",
        "\n",
        "   model = tf.keras.models.Sequential([\n",
        "        tf.keras.layers.Conv2D(n_filters[0], (filter_size[0],filter_size[0]), activation='relu', input_shape=(img_size,img_size,3)),\n",
        "        tf.keras.layers.BatchNormalization(),\n",
        "        tf.keras.layers.MaxPooling2D(2, 2),\n",
        "\n",
        "        tf.keras.layers.Conv2D(n_filters[1], (filter_size[1],filter_size[1]), activation='relu'),\n",
        "        tf.keras.layers.BatchNormalization(),\n",
        "        tf.keras.layers.MaxPooling2D(2,2),\n",
        "\n",
        "        tf.keras.layers.Conv2D(n_filters[2], (filter_size[2],filter_size[2]), activation='relu'),\n",
        "        tf.keras.layers.BatchNormalization(),\n",
        "        tf.keras.layers.MaxPooling2D(2,2),\n",
        "\n",
        "        tf.keras.layers.Conv2D(n_filters[3], (filter_size[3],filter_size[3]), activation='relu'),\n",
        "        tf.keras.layers.BatchNormalization(),\n",
        "        tf.keras.layers.MaxPooling2D(2,2),\n",
        "\n",
        "        tf.keras.layers.Conv2D(n_filters[4], (filter_size[4],filter_size[4]), activation='relu'),\n",
        "        tf.keras.layers.BatchNormalization(),\n",
        "        tf.keras.layers.MaxPooling2D(2,2),\n",
        "\n",
        "        tf.keras.layers.Dropout(drop_out),\n",
        "        tf.keras.layers.Flatten(),\n",
        "        tf.keras.layers.Dense(fc_size, activation='relu'),\n",
        "        tf.keras.layers.Dense(n_classes,activation=\"softmax\")\n",
        "    ])\n",
        "\n",
        "   model.compile(optimizer='adam',loss='categorical_crossentropy',metrics=['accuracy'])\n",
        "   model.summary()\n",
        "   return model\n",
        "\n",
        "def cnn_model_2(img_size,n_filters,filter_size,fc_size,drop_out,n_classes):\n",
        "\n",
        "   model = tf.keras.models.Sequential([\n",
        "        tf.keras.layers.Conv2D(n_filters[0], (filter_size[0],filter_size[0]), activation='relu', input_shape=(img_size,img_size,3)),\n",
        "        tf.keras.layers.MaxPooling2D(2, 2),\n",
        "\n",
        "        tf.keras.layers.Conv2D(n_filters[1], (filter_size[1],filter_size[1]), activation='relu'),\n",
        "        tf.keras.layers.MaxPooling2D(2,2),\n",
        "\n",
        "        tf.keras.layers.Conv2D(n_filters[2], (filter_size[2],filter_size[2]), activation='relu'),\n",
        "        tf.keras.layers.MaxPooling2D(2,2),\n",
        "\n",
        "        tf.keras.layers.Conv2D(n_filters[3], (filter_size[3],filter_size[3]), activation='relu'),\n",
        "        tf.keras.layers.MaxPooling2D(2,2),\n",
        "\n",
        "        tf.keras.layers.Conv2D(n_filters[4], (filter_size[4],filter_size[4]), activation='relu'),\n",
        "        tf.keras.layers.MaxPooling2D(2,2),\n",
        "\n",
        "        tf.keras.layers.Dropout(drop_out),\n",
        "        tf.keras.layers.Flatten(),\n",
        "        tf.keras.layers.Dense(fc_size, activation='relu'),\n",
        "        tf.keras.layers.Dense(n_classes,activation=\"softmax\")\n",
        "    ])\n",
        "\n",
        "   model.compile(optimizer='adam',loss='categorical_crossentropy',metrics=['accuracy'])\n",
        "   model.summary()\n",
        "   return model   "
      ],
      "execution_count": null,
      "outputs": []
    },
    {
      "cell_type": "markdown",
      "metadata": {
        "id": "8qL6dgo8Q9tv"
      },
      "source": [
        "**Train Model**"
      ]
    },
    {
      "cell_type": "code",
      "metadata": {
        "id": "yQwJcV3_RABD"
      },
      "source": [
        "def train():\n",
        "  \n",
        "  config_defaults = {\n",
        "      \"img_size\" : 229,\n",
        "      \"batch_size\" : 100,\n",
        "      \"n_classes\" : 10,\n",
        "      \"n_filters\" : [36,49,49,81,144],\n",
        "      \"filter_size\" : [2,5,2,5,2],\n",
        "      \"fc_size\" : 250,\n",
        "      \"drop_out\" : 0.2,\n",
        "      \"augmentation\" : 1,\n",
        "      \"batch_normalize\" : 1 \n",
        "  }\n",
        "\n",
        "  # track this experiment with wandb: all runs will be sent to the given project name\n",
        "  run = wandb.init(config=config_defaults,job_type='train')\n",
        "  cfg = wandb.config\n",
        "\n",
        "  # artifact names\n",
        "  train_at = os.path.join(PROJECT_NAME, PREFIX_1 + \"_train_data_\" + str(n_train)) + \":latest\"\n",
        "  val_at = os.path.join(PROJECT_NAME, PREFIX_1 + \"_val_data_\" + str(n_val)) + \":latest\"\n",
        "\n",
        "  train_data = run.use_artifact(train_at, type='train_data')\n",
        "  train_dir = train_data.download()\n",
        "  val_data = run.use_artifact(val_at, type='val_data')\n",
        "  val_dir = val_data.download()\n",
        "\n",
        "  # create augmented train and validation data generators\n",
        "  if cfg.augmentation == 1:\n",
        "    train_datagen = ImageDataGenerator(\n",
        "      rescale=1./255,\n",
        "      rotation_range=36,\n",
        "      shear_range=0.3,\n",
        "      zoom_range=0.4,\n",
        "      horizontal_flip=True,\n",
        "      fill_mode='nearest')\n",
        "  else  :\n",
        "    train_datagen = ImageDataGenerator(rescale = 1. /255)\n",
        "  \n",
        "  val_datagen = ImageDataGenerator(rescale = 1. / 255)\n",
        "\n",
        "  train_generator = train_datagen.flow_from_directory(\n",
        "    train_dir,\n",
        "    target_size=(cfg.img_size, cfg.img_size),\n",
        "    batch_size=cfg.batch_size,\n",
        "    class_mode='categorical')\n",
        "\n",
        "  val_generator = val_datagen.flow_from_directory(\n",
        "    val_dir,\n",
        "    target_size=(cfg.img_size, cfg.img_size),\n",
        "    batch_size=cfg.batch_size,\n",
        "    class_mode='categorical')\n",
        "  \n",
        "  # cfg.n_filters=[np.random.choice(cfg.n_filters_val) for i in range(5)]   #hidden layer sizes array creation\n",
        "\n",
        "  # cfg.filter_size=[np.random.choice(cfg.filter_size_val) for i in range(5)]\n",
        "\n",
        "  # instantiate model and callbacks\n",
        "  if cfg.batch_normalize==1 :\n",
        "    model = cnn_model_1(cfg.img_size,cfg.n_filters,cfg.filter_size,cfg.fc_size,cfg.drop_out,cfg.n_classes)\n",
        "\n",
        "  elif cfg.batch_normalize==0 :\n",
        "    model = cnn_model_2(cfg.img_size,cfg.n_filters,cfg.filter_size,cfg.fc_size,cfg.drop_out,cfg.n_classes) \n",
        "  \n",
        " \n",
        "  # train and validate\n",
        "  history = model.fit(\n",
        "      train_generator,\n",
        "      steps_per_epoch = n_train // cfg.batch_size,\n",
        "      epochs = n_epochs,\n",
        "      validation_data=val_generator,\n",
        "      callbacks = [WandbCallback()],\n",
        "      validation_steps = n_val // cfg.batch_size)\n",
        "\n",
        "  # save trained model as artifact\n",
        "  trained_model_artifact = wandb.Artifact(\n",
        "            MODEL_NAME, type=\"model\",\n",
        "            description=\"trained cnn model\",\n",
        "            metadata=dict(cfg))\n",
        "\n",
        "  model.save(FINAL_MODEL_DIR)\n",
        "  trained_model_artifact.add_dir(FINAL_MODEL_DIR)\n",
        "  run.log_artifact(trained_model_artifact)\n",
        "  run.finish()"
      ],
      "execution_count": null,
      "outputs": []
    },
    {
      "cell_type": "code",
      "metadata": {
        "colab": {
          "base_uri": "https://localhost:8080/",
          "height": 1000,
          "referenced_widgets": [
            "6bf654a92ead419f8a2a2cb4601f90bd",
            "1492d80670a44b4f9ff05783ce5e2958",
            "d0189b00e8374aee9881e5b9deff8cc9",
            "f0517e33ed454c2aa0961ece2c797c37",
            "86eb72ccce704ea886b4d189807a55a1",
            "60798ec8e86a46d9af453bd5905ccb74",
            "8d699dc91fad4b4eac50de7f7ce938fe",
            "f7453ccc5d40417a958880b78af0d671"
          ]
        },
        "id": "x7veTz0B1S92",
        "outputId": "b17941a5-0075-4c9d-a590-c5946935733f"
      },
      "source": [
        "train()"
      ],
      "execution_count": null,
      "outputs": [
        {
          "output_type": "display_data",
          "data": {
            "text/html": [
              "\n",
              "                Tracking run with wandb version 0.10.25<br/>\n",
              "                Syncing run <strong style=\"color:#cdcd00\">jolly-disco-10</strong> to <a href=\"https://wandb.ai\" target=\"_blank\">Weights & Biases</a> <a href=\"https://docs.wandb.com/integrations/jupyter.html\" target=\"_blank\">(Documentation)</a>.<br/>\n",
              "                Project page: <a href=\"https://wandb.ai/rohithd/uncategorized\" target=\"_blank\">https://wandb.ai/rohithd/uncategorized</a><br/>\n",
              "                Run page: <a href=\"https://wandb.ai/rohithd/uncategorized/runs/yyvs933o\" target=\"_blank\">https://wandb.ai/rohithd/uncategorized/runs/yyvs933o</a><br/>\n",
              "                Run data is saved locally in <code>/content/wandb/run-20210413_163710-yyvs933o</code><br/><br/>\n",
              "            "
            ],
            "text/plain": [
              "<IPython.core.display.HTML object>"
            ]
          },
          "metadata": {
            "tags": []
          }
        },
        {
          "output_type": "stream",
          "text": [
            "\u001b[34m\u001b[1mwandb\u001b[0m: Downloading large artifact train_train_data_9000:latest, 2741.26MB. 9000 files... Done. 0:0:0\n",
            "\u001b[34m\u001b[1mwandb\u001b[0m: Downloading large artifact train_val_data_1000:latest, 303.27MB. 1000 files... Done. 0:0:0\n"
          ],
          "name": "stderr"
        },
        {
          "output_type": "stream",
          "text": [
            "Found 8999 images belonging to 10 classes.\n",
            "Found 1000 images belonging to 10 classes.\n",
            "Model: \"sequential\"\n",
            "_________________________________________________________________\n",
            "Layer (type)                 Output Shape              Param #   \n",
            "=================================================================\n",
            "conv2d (Conv2D)              (None, 228, 228, 36)      468       \n",
            "_________________________________________________________________\n",
            "batch_normalization (BatchNo (None, 228, 228, 36)      144       \n",
            "_________________________________________________________________\n",
            "max_pooling2d (MaxPooling2D) (None, 114, 114, 36)      0         \n",
            "_________________________________________________________________\n",
            "conv2d_1 (Conv2D)            (None, 110, 110, 49)      44149     \n",
            "_________________________________________________________________\n",
            "batch_normalization_1 (Batch (None, 110, 110, 49)      196       \n",
            "_________________________________________________________________\n",
            "max_pooling2d_1 (MaxPooling2 (None, 55, 55, 49)        0         \n",
            "_________________________________________________________________\n",
            "conv2d_2 (Conv2D)            (None, 54, 54, 49)        9653      \n",
            "_________________________________________________________________\n",
            "batch_normalization_2 (Batch (None, 54, 54, 49)        196       \n",
            "_________________________________________________________________\n",
            "max_pooling2d_2 (MaxPooling2 (None, 27, 27, 49)        0         \n",
            "_________________________________________________________________\n",
            "conv2d_3 (Conv2D)            (None, 23, 23, 81)        99306     \n",
            "_________________________________________________________________\n",
            "batch_normalization_3 (Batch (None, 23, 23, 81)        324       \n",
            "_________________________________________________________________\n",
            "max_pooling2d_3 (MaxPooling2 (None, 11, 11, 81)        0         \n",
            "_________________________________________________________________\n",
            "conv2d_4 (Conv2D)            (None, 10, 10, 144)       46800     \n",
            "_________________________________________________________________\n",
            "batch_normalization_4 (Batch (None, 10, 10, 144)       576       \n",
            "_________________________________________________________________\n",
            "max_pooling2d_4 (MaxPooling2 (None, 5, 5, 144)         0         \n",
            "_________________________________________________________________\n",
            "dropout (Dropout)            (None, 5, 5, 144)         0         \n",
            "_________________________________________________________________\n",
            "flatten (Flatten)            (None, 3600)              0         \n",
            "_________________________________________________________________\n",
            "dense (Dense)                (None, 250)               900250    \n",
            "_________________________________________________________________\n",
            "dense_1 (Dense)              (None, 10)                2510      \n",
            "=================================================================\n",
            "Total params: 1,104,572\n",
            "Trainable params: 1,103,854\n",
            "Non-trainable params: 718\n",
            "_________________________________________________________________\n",
            "Epoch 1/14\n",
            "90/90 [==============================] - 253s 2s/step - loss: 2.7664 - accuracy: 0.2045 - val_loss: 2.7968 - val_accuracy: 0.1000\n",
            "Epoch 2/14\n",
            "90/90 [==============================] - 196s 2s/step - loss: 2.0329 - accuracy: 0.2844 - val_loss: 2.6961 - val_accuracy: 0.1160\n",
            "Epoch 3/14\n",
            "90/90 [==============================] - 194s 2s/step - loss: 1.9569 - accuracy: 0.3112 - val_loss: 2.7747 - val_accuracy: 0.1300\n",
            "Epoch 4/14\n",
            "90/90 [==============================] - 194s 2s/step - loss: 1.8729 - accuracy: 0.3374 - val_loss: 2.7825 - val_accuracy: 0.1470\n",
            "Epoch 5/14\n",
            "90/90 [==============================] - 195s 2s/step - loss: 1.8299 - accuracy: 0.3479 - val_loss: 2.0780 - val_accuracy: 0.2420\n",
            "Epoch 6/14\n",
            "90/90 [==============================] - 195s 2s/step - loss: 1.7877 - accuracy: 0.3680 - val_loss: 2.1252 - val_accuracy: 0.2550\n",
            "Epoch 7/14\n",
            "90/90 [==============================] - 196s 2s/step - loss: 1.7543 - accuracy: 0.3863 - val_loss: 1.9106 - val_accuracy: 0.3310\n",
            "Epoch 8/14\n",
            "90/90 [==============================] - 196s 2s/step - loss: 1.7410 - accuracy: 0.3829 - val_loss: 1.7926 - val_accuracy: 0.3870\n",
            "Epoch 9/14\n",
            "90/90 [==============================] - 191s 2s/step - loss: 1.6518 - accuracy: 0.4232 - val_loss: 2.0077 - val_accuracy: 0.3200\n",
            "Epoch 10/14\n",
            "90/90 [==============================] - 192s 2s/step - loss: 1.6384 - accuracy: 0.4177 - val_loss: 2.1478 - val_accuracy: 0.3310\n",
            "Epoch 11/14\n",
            "90/90 [==============================] - 192s 2s/step - loss: 1.6442 - accuracy: 0.4229 - val_loss: 1.9084 - val_accuracy: 0.3440\n",
            "Epoch 12/14\n",
            "90/90 [==============================] - 192s 2s/step - loss: 1.6082 - accuracy: 0.4353 - val_loss: 2.2045 - val_accuracy: 0.3300\n",
            "Epoch 13/14\n",
            "90/90 [==============================] - 192s 2s/step - loss: 1.5497 - accuracy: 0.4610 - val_loss: 2.0472 - val_accuracy: 0.3180\n",
            "Epoch 14/14\n",
            "90/90 [==============================] - 191s 2s/step - loss: 1.5127 - accuracy: 0.4701 - val_loss: 2.1264 - val_accuracy: 0.3400\n",
            "INFO:tensorflow:Assets written to: trained_CNN/assets\n"
          ],
          "name": "stdout"
        },
        {
          "output_type": "stream",
          "text": [
            "\u001b[34m\u001b[1mwandb\u001b[0m: Adding directory to artifact (./trained_CNN)... Done. 0.4s\n"
          ],
          "name": "stderr"
        },
        {
          "output_type": "display_data",
          "data": {
            "text/html": [
              "<br/>Waiting for W&B process to finish, PID 10384<br/>Program ended successfully."
            ],
            "text/plain": [
              "<IPython.core.display.HTML object>"
            ]
          },
          "metadata": {
            "tags": []
          }
        },
        {
          "output_type": "display_data",
          "data": {
            "application/vnd.jupyter.widget-view+json": {
              "model_id": "6bf654a92ead419f8a2a2cb4601f90bd",
              "version_minor": 0,
              "version_major": 2
            },
            "text/plain": [
              "VBox(children=(Label(value=' 25.89MB of 25.89MB uploaded (0.00MB deduped)\\r'), FloatProgress(value=1.0, max=1.…"
            ]
          },
          "metadata": {
            "tags": []
          }
        },
        {
          "output_type": "display_data",
          "data": {
            "text/html": [
              "Find user logs for this run at: <code>/content/wandb/run-20210413_163710-yyvs933o/logs/debug.log</code>"
            ],
            "text/plain": [
              "<IPython.core.display.HTML object>"
            ]
          },
          "metadata": {
            "tags": []
          }
        },
        {
          "output_type": "display_data",
          "data": {
            "text/html": [
              "Find internal logs for this run at: <code>/content/wandb/run-20210413_163710-yyvs933o/logs/debug-internal.log</code>"
            ],
            "text/plain": [
              "<IPython.core.display.HTML object>"
            ]
          },
          "metadata": {
            "tags": []
          }
        },
        {
          "output_type": "display_data",
          "data": {
            "text/html": [
              "<h3>Run summary:</h3><br/><style>\n",
              "    table.wandb td:nth-child(1) { padding: 0 10px; text-align: right }\n",
              "    </style><table class=\"wandb\">\n",
              "<tr><td>epoch</td><td>13</td></tr><tr><td>loss</td><td>1.54709</td></tr><tr><td>accuracy</td><td>0.45327</td></tr><tr><td>val_loss</td><td>2.12643</td></tr><tr><td>val_accuracy</td><td>0.34</td></tr><tr><td>_runtime</td><td>2842</td></tr><tr><td>_timestamp</td><td>1618334672</td></tr><tr><td>_step</td><td>13</td></tr><tr><td>best_val_loss</td><td>1.79256</td></tr><tr><td>best_epoch</td><td>7</td></tr></table>"
            ],
            "text/plain": [
              "<IPython.core.display.HTML object>"
            ]
          },
          "metadata": {
            "tags": []
          }
        },
        {
          "output_type": "display_data",
          "data": {
            "text/html": [
              "<h3>Run history:</h3><br/><style>\n",
              "    table.wandb td:nth-child(1) { padding: 0 10px; text-align: right }\n",
              "    </style><table class=\"wandb\">\n",
              "<tr><td>epoch</td><td>▁▂▂▃▃▄▄▅▅▆▆▇▇█</td></tr><tr><td>loss</td><td>█▅▄▄▄▃▃▃▂▂▂▂▁▁</td></tr><tr><td>accuracy</td><td>▁▃▄▄▅▅▆▆▇▇▇▇██</td></tr><tr><td>val_loss</td><td>█▇██▃▃▂▁▂▃▂▄▃▃</td></tr><tr><td>val_accuracy</td><td>▁▁▂▂▄▅▇█▆▇▇▇▆▇</td></tr><tr><td>_runtime</td><td>▁▂▂▃▃▄▄▅▅▆▆▇▇█</td></tr><tr><td>_timestamp</td><td>▁▂▂▃▃▄▄▅▅▆▆▇▇█</td></tr><tr><td>_step</td><td>▁▂▂▃▃▄▄▅▅▆▆▇▇█</td></tr></table><br/>"
            ],
            "text/plain": [
              "<IPython.core.display.HTML object>"
            ]
          },
          "metadata": {
            "tags": []
          }
        },
        {
          "output_type": "display_data",
          "data": {
            "text/html": [
              "Synced 5 W&B file(s), 1 media file(s), 3 artifact file(s) and 1 other file(s)"
            ],
            "text/plain": [
              "<IPython.core.display.HTML object>"
            ]
          },
          "metadata": {
            "tags": []
          }
        },
        {
          "output_type": "display_data",
          "data": {
            "text/html": [
              "\n",
              "                    <br/>Synced <strong style=\"color:#cdcd00\">jolly-disco-10</strong>: <a href=\"https://wandb.ai/rohithd/uncategorized/runs/yyvs933o\" target=\"_blank\">https://wandb.ai/rohithd/uncategorized/runs/yyvs933o</a><br/>\n",
              "                "
            ],
            "text/plain": [
              "<IPython.core.display.HTML object>"
            ]
          },
          "metadata": {
            "tags": []
          }
        }
      ]
    },
    {
      "cell_type": "code",
      "metadata": {
        "id": "SvxSYb31aBvl"
      },
      "source": [
        "def sweeper(sweep_config,PROJECT_NAME):\n",
        "  sweep_id=wandb.sweep(sweep_config,project=PROJECT_NAME)\n",
        "  wandb.agent(sweep_id,train,project=PROJECT_NAME)"
      ],
      "execution_count": null,
      "outputs": []
    },
    {
      "cell_type": "code",
      "metadata": {
        "id": "EW9vucYHaF3j"
      },
      "source": [
        "#sweep dictionary\n",
        "sweep_config={\n",
        "    'method':'bayes',\n",
        "    'metric':{\n",
        "        'name':'accuracy',\n",
        "        'goal':'maximize'},\n",
        "\n",
        "}\n",
        "\n",
        "parameters_dict={\n",
        "    \n",
        "   # 'n_filters_val':{\n",
        "   #     'values':[[32,64,128]]\n",
        "   # },\n",
        "    'n_filters':{\n",
        "        'values':[[36,49,64,64,121],[36,49,49,81,144],[49,64,96,121,169],[64,64,81,128,225]]\n",
        "    },\n",
        "    'filter_size_val':{\n",
        "        'values':[[2,3,5]]\n",
        "    },\n",
        "    'fc_size':{\n",
        "        'values':[250,140,400]\n",
        "    },\n",
        "    'drop_out':{\n",
        "        'values':[0,0.2,0.5,0.7,0.3]\n",
        "    },\n",
        "    'augmentation':{\n",
        "      'values':[1,0]  \n",
        "    },\n",
        "    'batch_normalize':{\n",
        "        'values':[1,0]\n",
        "    },\n",
        "    'batch_size':{\n",
        "        'values':[180,100]\n",
        "    },\n",
        "}\n",
        "\n",
        "sweep_config['parameters']=parameters_dict"
      ],
      "execution_count": null,
      "outputs": []
    },
    {
      "cell_type": "code",
      "metadata": {
        "id": "jSVkYkeqaLPg"
      },
      "source": [
        "sweeper(sweep_config,PROJECT_NAME)"
      ],
      "execution_count": null,
      "outputs": []
    },
    {
      "cell_type": "code",
      "metadata": {
        "id": "K_dCqWoTDe_I",
        "colab": {
          "base_uri": "https://localhost:8080/",
          "height": 338,
          "referenced_widgets": [
            "cea8900cb7a3420d9c9683d8f65fdea9",
            "5074313737ce4a559cbb419d49ad5ac3",
            "b11fdde61fa54cd0945211b3d30443eb",
            "185095a1513e4a9ab4a511ba08fe072e",
            "80b60f76d42349188d0916d9480de2a4",
            "e69af79d3d594386a4a63dd55902ffd1",
            "7d7d053550944a8db06034697fe32b70",
            "e3fec65a2407418c97eab945fa52fb53"
          ]
        },
        "outputId": "33fb232a-c305-4ff5-a175-a3d635b56488"
      },
      "source": [
        "from tensorflow.keras.preprocessing import image\n",
        "\n",
        "run = wandb.init(project=PROJECT_NAME, job_type=\"inference\")\n",
        "# use the latest version of the model\n",
        "model_at = run.use_artifact('rohithd/uncategorized/CNN:v0', type='model')\n",
        "# 'krsrinivas/CS6910 ASSIGNMENT 2/CNN:v36', type='model'\n",
        "# download the directory in which the model is saved\n",
        "model_dir= model_at.download()\n",
        "print(\"model: \", model_dir)\n",
        "model = tf.keras.models.load_model(model_dir)\n",
        "\n",
        "test_data_at = run.use_artifact(TEST_RAW_DATA_AT+ \":latest\")\n",
        "test_dir = test_data_at.download()\n",
        "\n",
        "imgs = []\n",
        "true_pred=[]\n",
        "class_labels = os.listdir(test_dir)\n",
        "for l in class_labels:\n",
        "  if l.startswith(\".\"):\n",
        "    continue\n",
        "  imgs_per_class = os.listdir(os.path.join(test_dir, l))\n",
        "  for img in imgs_per_class:\n",
        "    img_path = os.path.join(test_dir, l, img)\n",
        "    img = image.load_img(img_path, target_size=(229, 229))\n",
        "    img = image.img_to_array(img)\n",
        "    # don't forget to rescale test images to match the range of inputs\n",
        "    # to the network\n",
        "    img = np.expand_dims(img/255.0, axis=0)\n",
        "    imgs.append(img)\n",
        "    true_pred.append(l)\n",
        "\n",
        "preds = {}\n",
        "imgs = np.vstack(imgs)\n",
        "classes = model.predict(imgs, batch_size=32)\n",
        "for c in classes:\n",
        "  class_id = np.argmax(c)\n",
        "  if class_id in preds:\n",
        "    preds[class_id] += 1\n",
        "  else:\n",
        "    preds[class_id] = 1\n",
        "\n",
        "# print the counts of predicted labels as a quick sanity check\n",
        "# note that for tiny/medium datasets, this won't be very meaningful\n",
        "print(preds)\n",
        "run.finish()"
      ],
      "execution_count": 37,
      "outputs": [
        {
          "output_type": "display_data",
          "data": {
            "text/html": [
              "\n",
              "                Tracking run with wandb version 0.10.26<br/>\n",
              "                Syncing run <strong style=\"color:#cdcd00\">toasty-frog-48</strong> to <a href=\"https://wandb.ai\" target=\"_blank\">Weights & Biases</a> <a href=\"https://docs.wandb.com/integrations/jupyter.html\" target=\"_blank\">(Documentation)</a>.<br/>\n",
              "                Project page: <a href=\"https://wandb.ai/rohithd/CS6910%20ASSIGNMENT%202\" target=\"_blank\">https://wandb.ai/rohithd/CS6910%20ASSIGNMENT%202</a><br/>\n",
              "                Run page: <a href=\"https://wandb.ai/rohithd/CS6910%20ASSIGNMENT%202/runs/3em46x74\" target=\"_blank\">https://wandb.ai/rohithd/CS6910%20ASSIGNMENT%202/runs/3em46x74</a><br/>\n",
              "                Run data is saved locally in <code>/content/wandb/run-20210414_094129-3em46x74</code><br/><br/>\n",
              "            "
            ],
            "text/plain": [
              "<IPython.core.display.HTML object>"
            ]
          },
          "metadata": {
            "tags": []
          }
        },
        {
          "output_type": "stream",
          "text": [
            "model:  ./artifacts/CNN:v0\n"
          ],
          "name": "stdout"
        },
        {
          "output_type": "stream",
          "text": [
            "\u001b[34m\u001b[1mwandb\u001b[0m: Downloading large artifact test_raw_data_2000:latest, 604.34MB. 2000 files... Done. 0:0:0\n"
          ],
          "name": "stderr"
        },
        {
          "output_type": "stream",
          "text": [
            "WARNING:tensorflow:11 out of the last 11 calls to <function Model.make_predict_function.<locals>.predict_function at 0x7f64672e6cb0> triggered tf.function retracing. Tracing is expensive and the excessive number of tracings could be due to (1) creating @tf.function repeatedly in a loop, (2) passing tensors with different shapes, (3) passing Python objects instead of tensors. For (1), please define your @tf.function outside of the loop. For (2), @tf.function has experimental_relax_shapes=True option that relaxes argument shapes that can avoid unnecessary retracing. For (3), please refer to https://www.tensorflow.org/guide/function#controlling_retracing and https://www.tensorflow.org/api_docs/python/tf/function for  more details.\n",
            "{5: 259, 8: 506, 6: 395, 1: 142, 2: 170, 4: 244, 3: 124, 9: 49, 0: 74, 7: 37}\n"
          ],
          "name": "stdout"
        },
        {
          "output_type": "display_data",
          "data": {
            "text/html": [
              "<br/>Waiting for W&B process to finish, PID 863<br/>Program ended successfully."
            ],
            "text/plain": [
              "<IPython.core.display.HTML object>"
            ]
          },
          "metadata": {
            "tags": []
          }
        },
        {
          "output_type": "display_data",
          "data": {
            "application/vnd.jupyter.widget-view+json": {
              "model_id": "cea8900cb7a3420d9c9683d8f65fdea9",
              "version_minor": 0,
              "version_major": 2
            },
            "text/plain": [
              "VBox(children=(Label(value=' 0.00MB of 0.00MB uploaded (0.00MB deduped)\\r'), FloatProgress(value=1.0, max=1.0)…"
            ]
          },
          "metadata": {
            "tags": []
          }
        },
        {
          "output_type": "display_data",
          "data": {
            "text/html": [
              "Find user logs for this run at: <code>/content/wandb/run-20210414_094129-3em46x74/logs/debug.log</code>"
            ],
            "text/plain": [
              "<IPython.core.display.HTML object>"
            ]
          },
          "metadata": {
            "tags": []
          }
        },
        {
          "output_type": "display_data",
          "data": {
            "text/html": [
              "Find internal logs for this run at: <code>/content/wandb/run-20210414_094129-3em46x74/logs/debug-internal.log</code>"
            ],
            "text/plain": [
              "<IPython.core.display.HTML object>"
            ]
          },
          "metadata": {
            "tags": []
          }
        },
        {
          "output_type": "display_data",
          "data": {
            "text/html": [
              "Synced 5 W&B file(s), 0 media file(s), 0 artifact file(s) and 0 other file(s)"
            ],
            "text/plain": [
              "<IPython.core.display.HTML object>"
            ]
          },
          "metadata": {
            "tags": []
          }
        },
        {
          "output_type": "display_data",
          "data": {
            "text/html": [
              "\n",
              "                    <br/>Synced <strong style=\"color:#cdcd00\">toasty-frog-48</strong>: <a href=\"https://wandb.ai/rohithd/CS6910%20ASSIGNMENT%202/runs/3em46x74\" target=\"_blank\">https://wandb.ai/rohithd/CS6910%20ASSIGNMENT%202/runs/3em46x74</a><br/>\n",
              "                "
            ],
            "text/plain": [
              "<IPython.core.display.HTML object>"
            ]
          },
          "metadata": {
            "tags": []
          }
        }
      ]
    },
    {
      "cell_type": "code",
      "metadata": {
        "colab": {
          "base_uri": "https://localhost:8080/",
          "height": 252
        },
        "id": "EABfIfbRFYEu",
        "outputId": "a0ae1cfa-50d9-4edd-8e6e-87a5da4f8d62"
      },
      "source": [
        "from matplotlib import pyplot\n",
        "from numpy import random\n",
        "from keras.models import Model\n",
        "\n",
        "modelConv1=Model(inputs=model.inputs, outputs=model.layers[0].output)\n",
        "\n",
        "# take a random image \"img\"\n",
        "img= np.expand_dims(imgs[random.randint(0,200)], axis=0)\n",
        "\n",
        "preds=modelConv1.predict(img,batch_size=32)\n",
        "square = 6\n",
        "ix = 1\n",
        "for _ in range(square):\n",
        "\tfor _ in range(square):\n",
        "\t\t# specify subplot and turn of axis\n",
        "\t\tax = pyplot.subplot(square, square, ix)\n",
        "\t\tax.set_xticks([])\n",
        "\t\tax.set_yticks([])\n",
        "\t\t# plot filter channel in grayscale\n",
        "\t\tpyplot.imshow(preds[0, :, :, ix-1], cmap='viridis')\n",
        "\t\tix += 1\n",
        "# show the figure\n",
        "pyplot.show()"
      ],
      "execution_count": 38,
      "outputs": [
        {
          "output_type": "display_data",
          "data": {
            "image/png": "[encoded data removed]",
            "text/plain": [
              "<Figure size 432x288 with 36 Axes>"
            ]
          },
          "metadata": {
            "tags": []
          }
        }
      ]
    },
    {
      "cell_type": "code",
      "metadata": {
        "id": "6heVr4_tGYeF"
      },
      "source": [
        "layer_name=\"conv2d_4\"\n",
        "\n",
        "layer = model.get_layer(name=layer_name)\n",
        "feature_extractor = Model(inputs=model.inputs, outputs=layer.output)\n"
      ],
      "execution_count": 55,
      "outputs": []
    },
    {
      "cell_type": "code",
      "metadata": {
        "id": "wISIYML6zhFZ"
      },
      "source": [
        "def compute_loss(input_image, filter_index):\n",
        "    activation = feature_extractor(input_image)\n",
        "    # We avoid border artifacts by only involving non-border pixels in the loss.\n",
        "    filter_activation = activation[:, 2:-2, 2:-2, filter_index]\n",
        "    return tf.reduce_mean(filter_activation)"
      ],
      "execution_count": 56,
      "outputs": []
    },
    {
      "cell_type": "code",
      "metadata": {
        "id": "IByG5uGn0J0v"
      },
      "source": [
        "def gradient_ascent_step(img, filter_index, learning_rate):\n",
        "    with tf.GradientTape() as tape:\n",
        "        tape.watch(img)\n",
        "        loss = compute_loss(img, filter_index)\n",
        "    # Compute gradients.\n",
        "    grads = tape.gradient(loss, img)\n",
        "    # Normalize gradients.\n",
        "    grads = tf.math.l2_normalize(grads)\n",
        "    img += learning_rate * grads\n",
        "    return loss, img\n",
        "\n",
        "def initialize_image():\n",
        "    # We start from a gray image with some random noise\n",
        "    img = tf.random.uniform((1, img_width, img_height, 3))\n",
        "    # ResNet50V2 expects inputs in the range [-1, +1].\n",
        "    # Here we scale our random inputs to [-0.125, +0.125]\n",
        "    return (img - 0.5) * 0.25\n",
        "\n",
        "\n",
        "def visualize_filter(filter_index):\n",
        "    # We run gradient ascent for 20 steps\n",
        "    iterations = 30\n",
        "    learning_rate = 10.0\n",
        "    img = initialize_image()\n",
        "    for iteration in range(iterations):\n",
        "        loss, img = gradient_ascent_step(img, filter_index, learning_rate)\n",
        "\n",
        "    # Decode the resulting input image\n",
        "    img = deprocess_image(img[0].numpy())\n",
        "    return loss, img\n",
        "\n",
        "def deprocess_image(img):\n",
        "    # Normalize array: center on 0., ensure variance is 0.15\n",
        "    img -= img.mean()\n",
        "    img /= img.std() + 1e-5\n",
        "    img *= 0.15\n",
        "\n",
        "    # Center crop\n",
        "    img = img[25:-25, 25:-25, :]\n",
        "\n",
        "    # Clip to [0, 1]\n",
        "    img += 0.5\n",
        "    img = np.clip(img, 0, 1)\n",
        "\n",
        "    # Convert to RGB array\n",
        "    img *= 255\n",
        "    img = np.clip(img, 0, 255).astype(\"uint8\")\n",
        "    return img\n"
      ],
      "execution_count": 54,
      "outputs": []
    },
    {
      "cell_type": "code",
      "metadata": {
        "id": "QDTRlJPu0oZd"
      },
      "source": [
        "img_width, img_height=229,229\n",
        "\n",
        "for i in range(100):\n",
        "  loss, img = visualize_filter(i)\n",
        "  pyplot.imshow(img)\n",
        "  pyplot.show()"
      ],
      "execution_count": null,
      "outputs": []
    },
    {
      "cell_type": "code",
      "metadata": {
        "colab": {
          "base_uri": "https://localhost:8080/"
        },
        "id": "zM3qDdjuGgDa",
        "outputId": "dd6aeba5-e381-49b0-d105-987a4151963b"
      },
      "source": [
        "for layer in modelConv1.layers:\n",
        "    print(layer.output_shape)\n"
      ],
      "execution_count": null,
      "outputs": [
        {
          "output_type": "stream",
          "text": [
            "[(None, 229, 229, 3)]\n",
            "(None, 228, 228, 36)\n"
          ],
          "name": "stdout"
        }
      ]
    },
    {
      "cell_type": "code",
      "metadata": {
        "id": "TFwWKHW7tGVW"
      },
      "source": [
        "true_pred_vector=[]\n",
        "for true_val in true_pred:\n",
        "  vctr=np.zeros(10,dtype=int)\n",
        "  for i in range(10):\n",
        "    if class_labels[i]==true_val:\n",
        "      vctr[i]=1\n",
        "      true_pred_vector.append(vctr)\n",
        "      break\n",
        "true_pred_vector=np.array(true_pred_vector)"
      ],
      "execution_count": 42,
      "outputs": []
    },
    {
      "cell_type": "code",
      "metadata": {
        "colab": {
          "base_uri": "https://localhost:8080/"
        },
        "id": "O2-9lWYZrHr2",
        "outputId": "a2d3eb9d-c303-4c0b-c991-3fffaed6ce48"
      },
      "source": [
        "model.evaluate(imgs,true_pred_vector)"
      ],
      "execution_count": 48,
      "outputs": [
        {
          "output_type": "stream",
          "text": [
            "63/63 [==============================] - 2s 25ms/step - loss: 3.5921 - accuracy: 0.1135\n"
          ],
          "name": "stdout"
        },
        {
          "output_type": "execute_result",
          "data": {
            "text/plain": [
              "[3.592144012451172, 0.11349999904632568]"
            ]
          },
          "metadata": {
            "tags": []
          },
          "execution_count": 48
        }
      ]
    },
    {
      "cell_type": "code",
      "metadata": {
        "colab": {
          "base_uri": "https://localhost:8080/"
        },
        "id": "iD5-Bx_CuYrJ",
        "outputId": "efe40c94-8ac0-49fb-b6ac-8923092e9123"
      },
      "source": [
        "true_pred_vector.argmax(axis=1)"
      ],
      "execution_count": 59,
      "outputs": [
        {
          "output_type": "execute_result",
          "data": {
            "text/plain": [
              "array([0, 0, 0, ..., 9, 9, 9])"
            ]
          },
          "metadata": {
            "tags": []
          },
          "execution_count": 59
        }
      ]
    },
    {
      "cell_type": "code",
      "metadata": {
        "colab": {
          "base_uri": "https://localhost:8080/",
          "height": 178
        },
        "id": "3EwKXqnTv880",
        "outputId": "2146853b-2371-4c42-a954-c4f7035f7934"
      },
      "source": [
        "for i,j in classes.argmax(axis=1),true_pred_vector.argmax(axis=1):\n",
        "  print(i)"
      ],
      "execution_count": 47,
      "outputs": [
        {
          "output_type": "error",
          "ename": "ValueError",
          "evalue": "ignored",
          "traceback": [
            "\u001b[0;31m---------------------------------------------------------------------------\u001b[0m",
            "\u001b[0;31mValueError\u001b[0m                                Traceback (most recent call last)",
            "\u001b[0;32m<ipython-input-47-9ddd8fa8a95c>\u001b[0m in \u001b[0;36m<module>\u001b[0;34m()\u001b[0m\n\u001b[0;32m----> 1\u001b[0;31m \u001b[0;32mfor\u001b[0m \u001b[0mi\u001b[0m\u001b[0;34m,\u001b[0m\u001b[0mj\u001b[0m \u001b[0;32min\u001b[0m \u001b[0mclasses\u001b[0m\u001b[0;34m.\u001b[0m\u001b[0margmax\u001b[0m\u001b[0;34m(\u001b[0m\u001b[0maxis\u001b[0m\u001b[0;34m=\u001b[0m\u001b[0;36m1\u001b[0m\u001b[0;34m)\u001b[0m\u001b[0;34m,\u001b[0m\u001b[0mtrue_pred_vector\u001b[0m\u001b[0;34m.\u001b[0m\u001b[0margmax\u001b[0m\u001b[0;34m(\u001b[0m\u001b[0maxis\u001b[0m\u001b[0;34m=\u001b[0m\u001b[0;36m1\u001b[0m\u001b[0;34m)\u001b[0m\u001b[0;34m:\u001b[0m\u001b[0;34m\u001b[0m\u001b[0;34m\u001b[0m\u001b[0m\n\u001b[0m\u001b[1;32m      2\u001b[0m   \u001b[0mprint\u001b[0m\u001b[0;34m(\u001b[0m\u001b[0mi\u001b[0m\u001b[0;34m)\u001b[0m\u001b[0;34m\u001b[0m\u001b[0;34m\u001b[0m\u001b[0m\n",
            "\u001b[0;31mValueError\u001b[0m: too many values to unpack (expected 2)"
          ]
        }
      ]
    },
    {
      "cell_type": "code",
      "metadata": {
        "colab": {
          "base_uri": "https://localhost:8080/"
        },
        "id": "36KXfsVByATl",
        "outputId": "1432558b-cfc6-4c01-f8d3-041b81f96506"
      },
      "source": [
        "class_labels"
      ],
      "execution_count": 46,
      "outputs": [
        {
          "output_type": "execute_result",
          "data": {
            "text/plain": [
              "['Insecta',\n",
              " 'Fungi',\n",
              " 'Mollusca',\n",
              " 'Arachnida',\n",
              " 'Plantae',\n",
              " 'Aves',\n",
              " 'Mammalia',\n",
              " 'Amphibia',\n",
              " 'Reptilia',\n",
              " 'Animalia']"
            ]
          },
          "metadata": {
            "tags": []
          },
          "execution_count": 46
        }
      ]
    },
    {
      "cell_type": "code",
      "metadata": {
        "id": "Ytum0DhcHVrF",
        "colab": {
          "base_uri": "https://localhost:8080/",
          "height": 286
        },
        "outputId": "f99c91b4-ec6f-436a-f4d9-56201912e53b"
      },
      "source": [
        "pyplot.imshow(imgs[9])"
      ],
      "execution_count": 40,
      "outputs": [
        {
          "output_type": "execute_result",
          "data": {
            "text/plain": [
              "<matplotlib.image.AxesImage at 0x7f645059a990>"
            ]
          },
          "metadata": {
            "tags": []
          },
          "execution_count": 40
        },
        {
          "output_type": "display_data",
          "data": {
            "image/png": "[encoded data removed]",
            "text/plain": [
              "<Figure size 432x288 with 1 Axes>"
            ]
          },
          "metadata": {
            "tags": [],
            "needs_background": "light"
          }
        }
      ]
    },
    {
      "cell_type": "code",
      "metadata": {
        "colab": {
          "base_uri": "https://localhost:8080/"
        },
        "id": "I-ir0szNyC5K",
        "outputId": "d7fa0d6a-c11f-48d4-a55d-3cea9778179c"
      },
      "source": [
        "model.summary()"
      ],
      "execution_count": 24,
      "outputs": [
        {
          "output_type": "stream",
          "text": [
            "Model: \"sequential\"\n",
            "_________________________________________________________________\n",
            "Layer (type)                 Output Shape              Param #   \n",
            "=================================================================\n",
            "conv2d (Conv2D)              (None, 228, 228, 36)      468       \n",
            "_________________________________________________________________\n",
            "batch_normalization (BatchNo (None, 228, 228, 36)      144       \n",
            "_________________________________________________________________\n",
            "max_pooling2d (MaxPooling2D) (None, 114, 114, 36)      0         \n",
            "_________________________________________________________________\n",
            "conv2d_1 (Conv2D)            (None, 110, 110, 49)      44149     \n",
            "_________________________________________________________________\n",
            "batch_normalization_1 (Batch (None, 110, 110, 49)      196       \n",
            "_________________________________________________________________\n",
            "max_pooling2d_1 (MaxPooling2 (None, 55, 55, 49)        0         \n",
            "_________________________________________________________________\n",
            "conv2d_2 (Conv2D)            (None, 54, 54, 49)        9653      \n",
            "_________________________________________________________________\n",
            "batch_normalization_2 (Batch (None, 54, 54, 49)        196       \n",
            "_________________________________________________________________\n",
            "max_pooling2d_2 (MaxPooling2 (None, 27, 27, 49)        0         \n",
            "_________________________________________________________________\n",
            "conv2d_3 (Conv2D)            (None, 23, 23, 81)        99306     \n",
            "_________________________________________________________________\n",
            "batch_normalization_3 (Batch (None, 23, 23, 81)        324       \n",
            "_________________________________________________________________\n",
            "max_pooling2d_3 (MaxPooling2 (None, 11, 11, 81)        0         \n",
            "_________________________________________________________________\n",
            "conv2d_4 (Conv2D)            (None, 10, 10, 144)       46800     \n",
            "_________________________________________________________________\n",
            "batch_normalization_4 (Batch (None, 10, 10, 144)       576       \n",
            "_________________________________________________________________\n",
            "max_pooling2d_4 (MaxPooling2 (None, 5, 5, 144)         0         \n",
            "_________________________________________________________________\n",
            "dropout (Dropout)            (None, 5, 5, 144)         0         \n",
            "_________________________________________________________________\n",
            "flatten (Flatten)            (None, 3600)              0         \n",
            "_________________________________________________________________\n",
            "dense (Dense)                (None, 250)               900250    \n",
            "_________________________________________________________________\n",
            "dense_1 (Dense)              (None, 10)                2510      \n",
            "=================================================================\n",
            "Total params: 1,104,572\n",
            "Trainable params: 1,103,854\n",
            "Non-trainable params: 718\n",
            "_________________________________________________________________\n"
          ],
          "name": "stdout"
        }
      ]
    },
    {
      "cell_type": "code",
      "metadata": {
        "id": "Q7BO9--dhsZW"
      },
      "source": [
        ""
      ],
      "execution_count": null,
      "outputs": []
    }
  ]
}
